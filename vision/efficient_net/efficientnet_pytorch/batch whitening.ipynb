{
 "cells": [
  {
   "cell_type": "markdown",
   "metadata": {},
   "source": [
    "# Batch Whitening Layer\n",
    "The purpose of this notebook is to implement the batch whitening layer.   \n",
    "The implementation is inspired by the implementation of BatchNorm layer from [this reference](https://d2l.ai/chapter_convolutional-modern/batch-norm.html)\n"
   ]
  },
  {
   "cell_type": "code",
   "execution_count": 1,
   "metadata": {},
   "outputs": [
    {
     "name": "stdout",
     "output_type": "stream",
     "text": [
      "Device to use: cuda:0\n"
     ]
    }
   ],
   "source": [
    "import torch\n",
    "import torch.nn as nn \n",
    "import torch.nn.functional as F \n",
    "\n",
    "use_cuda = torch.cuda.is_available()\n",
    "device = torch.device(\"cuda:0\" if use_cuda else \"cpu\")\n",
    "print(\"Device to use:\", device)\n"
   ]
  },
  {
   "cell_type": "markdown",
   "metadata": {},
   "source": [
    "## Batch Normalization  \n",
    "Lets start with implementing BatchNorm from scratch and test it on a simple dataset.\n"
   ]
  },
  {
   "cell_type": "markdown",
   "metadata": {},
   "source": [
    "### Option 1"
   ]
  },
  {
   "cell_type": "code",
   "execution_count": null,
   "metadata": {},
   "outputs": [],
   "source": [
    "def batch_norm(X, gamma, beta, running_mean, running_var, eps, momentum):\n",
    "    # Use is_grad_enabled to determine whether we are in training mode\n",
    "    assert len(X.shape) in (2, 4)\n",
    "    if len(X.shape) == 2:\n",
    "        shape = (1, X.shape[1])\n",
    "    else:\n",
    "        shape = (1, X.shape[1], 1, 1)\n",
    "\n",
    "    if not torch.is_grad_enabled():\n",
    "        # In prediction mode, use mean and variance obtained by moving average\n",
    "        X_hat = (X - running_mean) / torch.sqrt(running_var + eps)\n",
    "    else:\n",
    "        if len(X.shape) == 2:\n",
    "            # When using a fully connected layer, calculate the mean and\n",
    "            # variance on the feature dimension\n",
    "            mean = X.mean(dim=0)\n",
    "            var = ((X - mean) ** 2).mean(dim=0)\n",
    "        else:\n",
    "            # When using a two-dimensional convolutional layer, calculate the\n",
    "            # mean and variance on the channel dimension (axis=1). Here we\n",
    "            # need to maintain the shape of X, so that the broadcasting\n",
    "            # operation can be carried out later\n",
    "            mean = X.mean(dim=(0, 2, 3), keepdim=True)\n",
    "            var = ((X - mean) ** 2).mean(dim=(0, 2, 3), keepdim=True)\n",
    "        # In training mode, the current mean and variance are used\n",
    "        X_hat = (X - mean) / torch.sqrt(var + eps)\n",
    "        # Update the mean and variance using moving average\n",
    "        running_mean = (1.0 - momentum) * running_mean + momentum * mean\n",
    "        running_var = (1.0 - momentum) * running_var + momentum * var\n",
    "    Y = gamma.view(shape) * X_hat + beta.view(shape)  # Scale and shift\n",
    "    return Y, running_mean.data, running_var.data\n",
    "\n",
    "\n",
    "class BatchNorm(nn.Module):\n",
    "    # num_features: the number of outputs for a fully connected layer or the\n",
    "    # number of output channels for a convolutional layer. num_dims: 2 for a\n",
    "    # fully connected layer and 4 for a convolutional layer\n",
    "    def __init__(self, num_features, num_dims):\n",
    "        super().__init__()\n",
    "        # if num_dims == 2:\n",
    "        #     shape = (1, num_features)\n",
    "        # else:\n",
    "        #     shape = (1, num_features, 1, 1)\n",
    "        shape = num_features\n",
    "        # The scale parameter and the shift parameter (model parameters) are\n",
    "        # initialized to 1 and 0, respectively\n",
    "        self.gamma = nn.Parameter(torch.ones(shape))\n",
    "        self.beta = nn.Parameter(torch.zeros(shape))\n",
    "\n",
    "        # The variables that are not model parameters are initialized to 0 and 1\n",
    "        # self.running_mean = torch.zeros(shape)\n",
    "        # self.running_var = torch.ones(shape)\n",
    "        self.register_buffer('running_mean', torch.zeros(shape))\n",
    "        self.register_buffer('running_var', torch.ones(shape))\n",
    "\n",
    "    def forward(self, X):\n",
    "        # If X is not on the main memory, copy moving_mean and moving_var to\n",
    "        # the device where X is located\n",
    "        if self.running_mean.device != X.device:\n",
    "            self.running_mean = self.running_mean.to(X.device)\n",
    "            self.running_var = self.running_var.to(X.device)\n",
    "        # Save the updated running_mean and moving_var\n",
    "        Y, self.running_mean, self.running_var = batch_norm(\n",
    "            X, self.gamma, self.beta, self.running_mean,\n",
    "            self.running_var, eps=1e-5, momentum=0.1)\n",
    "        return Y\n"
   ]
  },
  {
   "cell_type": "markdown",
   "metadata": {},
   "source": [
    "### Option 2"
   ]
  },
  {
   "cell_type": "code",
   "execution_count": null,
   "metadata": {},
   "outputs": [],
   "source": [
    "class BatchNorm2d(nn.Module):\n",
    "    def __init__(self, num_features, eps=1e-5, momentum=0.1):\n",
    "        super(BatchNorm2d, self).__init__()\n",
    "        self.num_features = num_features\n",
    "        self.eps = eps\n",
    "        self.momentum = momentum\n",
    "        # Learnable parameters\n",
    "        self.gamma = nn.Parameter(torch.ones(num_features))\n",
    "        self.beta = nn.Parameter(torch.zeros(num_features))\n",
    "        # Running mean and variance\n",
    "        self.register_buffer('running_mean', torch.zeros(num_features))\n",
    "        self.register_buffer('running_var', torch.ones(num_features))\n",
    "\n",
    "    def forward(self, x):\n",
    "        if self.training:\n",
    "            # Calculate mean and variance for the batch\n",
    "            mean = x.mean([0, 2, 3], keepdim=True)\n",
    "            var = x.var([0, 2, 3], keepdim=True, unbiased=False)\n",
    "            # Update running mean and variance\n",
    "            self.running_mean = (1 - self.momentum) * self.running_mean + self.momentum * mean\n",
    "            self.running_var = (1 - self.momentum) * self.running_var + self.momentum * var\n",
    "        else:\n",
    "            mean = self.running_mean\n",
    "            var = self.running_var\n",
    "        \n",
    "        # Normalize\n",
    "        x_normalized = (x - mean) / torch.sqrt(var + self.eps)\n",
    "        # Scale and shift\n",
    "        out = self.gamma.view(1, self.num_features, 1, 1) * x_normalized + self.beta.view(1, self.num_features, 1, 1)\n",
    "        \n",
    "        return out"
   ]
  },
  {
   "cell_type": "markdown",
   "metadata": {},
   "source": [
    "### Validation\n"
   ]
  },
  {
   "cell_type": "code",
   "execution_count": null,
   "metadata": {},
   "outputs": [],
   "source": [
    "# Create a batch of 2D images (batch size, channels, height, width)\n",
    "x = torch.randn(20, 10, 50, 50)\n",
    "\n",
    "# Our custom batch normalization layer\n",
    "custom_bn = BatchNorm(num_features=10, num_dims=4)\n",
    "# custom_bn = BatchNorm2d(num_features=10)\n",
    "\n",
    "# PyTorch's built-in batch normalization layer\n",
    "torch_bn = nn.BatchNorm2d(num_features=10)\n",
    "\n",
    "\n",
    "# Copy the parameters from our custom layer to the built-in layer for a fair comparison\n",
    "torch_bn.weight.data = custom_bn.gamma.data.clone()\n",
    "torch_bn.bias.data = custom_bn.beta.data.clone()\n",
    "torch_bn.running_mean = custom_bn.running_mean.clone()\n",
    "torch_bn.running_var = custom_bn.running_var.clone()\n",
    "\n",
    "# Forward pass\n",
    "custom_bn_output = custom_bn(x)\n",
    "torch_bn_output = torch_bn(x)\n",
    "\n",
    "# Check if the outputs are close\n",
    "assert torch.allclose(custom_bn_output, torch_bn_output, atol=1e-5), \"The outputs are not close enough!\"\n",
    "\n",
    "print(\"Functional validation passed!\")"
   ]
  },
  {
   "cell_type": "code",
   "execution_count": null,
   "metadata": {},
   "outputs": [],
   "source": [
    "x.shape"
   ]
  },
  {
   "cell_type": "code",
   "execution_count": null,
   "metadata": {},
   "outputs": [],
   "source": [
    "x.var([0, 2, 3], keepdim=True, unbiased=False).shape"
   ]
  },
  {
   "cell_type": "code",
   "execution_count": null,
   "metadata": {},
   "outputs": [],
   "source": [
    "custom_bn.training"
   ]
  },
  {
   "cell_type": "markdown",
   "metadata": {},
   "source": [
    "# Batch Whitening"
   ]
  },
  {
   "cell_type": "markdown",
   "metadata": {},
   "source": [
    "### Choleski"
   ]
  },
  {
   "cell_type": "code",
   "execution_count": 2,
   "metadata": {},
   "outputs": [],
   "source": [
    "def batch_orthonorm_obsolete(X, gamma, beta, running_mean=None, running_cov=None, eps=1e-5, momentum=0.1):\n",
    "    # Use is_grad_enabled to determine whether we are in training mode\n",
    "    assert len(X.shape) in (2, 4)\n",
    "    n_features = X.shape[1]\n",
    "\n",
    "    if len(X.shape) == 2:\n",
    "        # When using a fully connected layer, calculate the mean and\n",
    "        # variance on the feature dimension\n",
    "        shape = (1, n_features)\n",
    "        mean = X.mean(dim=0)\n",
    "        cov = torch.cov(X.T,correction=0)        \n",
    "        # var = ((X - mean) ** 2).mean(dim=0)\n",
    "    else:\n",
    "        # When using a two-dimensional convolutional layer, calculate the\n",
    "        # mean and covariance on the channel dimension (axis=1). Here we\n",
    "        # need to maintain the shape of X, so that the broadcasting\n",
    "        # operation can be carried out later\n",
    "        shape = (1, n_features, 1, 1)\n",
    "        mean = X.mean(dim=(0, 2, 3))\n",
    "        Xtmp = X.view(X.shape[0],X.shape[1],-1)\n",
    "        Xtmp = Xtmp.permute(1,0,2).reshape(X.shape[1],-1)\n",
    "        cov = torch.cov(Xtmp,correction=0) \n",
    "        # var = ((X - mean) ** 2).mean(dim=(0, 2, 3), keepdim=True)\n",
    "    # In training mode, the current mean and variance are used\n",
    "    # Update the mean and variance using moving average\n",
    "    running_mean = (1.0 - momentum) * running_mean + momentum * mean\n",
    "    running_cov = (1.0 - momentum) * running_cov + momentum * cov\n",
    "    L = torch.linalg.cholesky(running_cov + eps*torch.eye(n_features))\n",
    "    if len(X.shape) == 2:\n",
    "        X_hat = (X-running_mean.view(1,n_features)).T\n",
    "        Y = torch.linalg.solve_triangular(L,X_hat,upper=False).T\n",
    "    else:\n",
    "        X_hat = X-running_mean.view(1,n_features,1,1)\n",
    "        X_hat = X_hat.permute(1,0,2,3).reshape(X.shape[1],-1)\n",
    "        Y = torch.linalg.solve_triangular(L,X_hat,upper=False).reshape(X.shape[1],X.shape[0],X.shape[2],X.shape[3]).permute(1,0,2,3)\n",
    "    # Y = gamma.view(shape) * Y + beta.view(shape)  # Scale and shift\n",
    "    return Y, running_mean.data, running_cov.data\n",
    "\n",
    "def batch_orthonorm(X, gamma, beta, running_mean=None, running_cov=None, eps=1e-5, momentum=0.1):\n",
    "    # Use is_grad_enabled to determine whether we are in training mode\n",
    "    assert len(X.shape) in (2, 4)\n",
    "    n_features = X.shape[1]\n",
    "\n",
    "    if len(X.shape) == 2:\n",
    "        # When using a fully connected layer, calculate the mean and\n",
    "        # variance on the feature dimension\n",
    "        shape = (1, n_features)\n",
    "        mean = X.mean(dim=0)\n",
    "        cov = torch.cov(X.T,correction=0)        \n",
    "        # var = ((X - mean) ** 2).mean(dim=0)\n",
    "    else:\n",
    "        # When using a two-dimensional convolutional layer, calculate the\n",
    "        # mean and covariance on the channel dimension (axis=1). Here we\n",
    "        # need to maintain the shape of X, so that the broadcasting\n",
    "        # operation can be carried out later\n",
    "        shape = (1, n_features, 1, 1)\n",
    "        mean = X.mean(dim=(0, 2, 3))\n",
    "        Xtmp = X.view(X.shape[0],X.shape[1],-1)\n",
    "        Xtmp = Xtmp.permute(1,0,2).reshape(X.shape[1],-1)\n",
    "        cov = torch.cov(Xtmp,correction=0) \n",
    "        # var = ((X - mean) ** 2).mean(dim=(0, 2, 3), keepdim=True)\n",
    "    # In training mode, the current mean and variance are used\n",
    "    # Update the mean and variance using moving average\n",
    "    if torch.is_grad_enabled():\n",
    "        running_mean = (1.0 - momentum) * running_mean + momentum * mean\n",
    "        running_cov = (1.0 - momentum) * running_cov + momentum * cov\n",
    "        L = torch.linalg.cholesky(cov + eps*torch.eye(n_features))\n",
    "        if len(X.shape) == 2:\n",
    "            X_hat = (X-mean.view(1,n_features)).T\n",
    "            Y = torch.linalg.solve_triangular(L,X_hat,upper=False).T\n",
    "        else:\n",
    "            X_hat = X-mean.view(1,n_features,1,1)\n",
    "            X_hat = X_hat.permute(1,0,2,3).reshape(X.shape[1],-1)\n",
    "            Y = torch.linalg.solve_triangular(L,X_hat,upper=False).reshape(X.shape[1],X.shape[0],X.shape[2],X.shape[3]).permute(1,0,2,3)\n",
    "    else:\n",
    "        L = torch.linalg.cholesky(running_cov + eps*torch.eye(n_features))\n",
    "        if len(X.shape) == 2:\n",
    "            X_hat = (X-running_mean.view(1,n_features)).T\n",
    "            Y = torch.linalg.solve_triangular(L,X_hat,upper=False).T\n",
    "        else:\n",
    "            X_hat = X-running_mean.view(1,n_features,1,1)\n",
    "            X_hat = X_hat.permute(1,0,2,3).reshape(X.shape[1],-1)\n",
    "            Y = torch.linalg.solve_triangular(L,X_hat,upper=False).reshape(X.shape[1],X.shape[0],X.shape[2],X.shape[3]).permute(1,0,2,3)\n",
    "    # Y = gamma.view(shape) * Y + beta.view(shape)  # Scale and shift\n",
    "    return Y, running_mean.data, running_cov.data\n",
    "\n",
    "class BatchWhitening(nn.Module):\n",
    "    # num_features: the number of outputs for a fully connected layer or the\n",
    "    # number of output channels for a convolutional layer. num_dims: 2 for a\n",
    "    # fully connected layer and 4 for a convolutional layer\n",
    "    def __init__(self, num_features,momentum=0.1):\n",
    "        super().__init__()\n",
    "        # The scale parameter and the shift parameter (model parameters) are\n",
    "        # initialized to 1 and 0, respectively\n",
    "        self.momentum = momentum\n",
    "        self.gamma = nn.Parameter(torch.ones(num_features))\n",
    "        self.beta = nn.Parameter(torch.zeros(num_features))\n",
    "        # The variables that are not model parameters are initialized to 0 and 1\n",
    "        self.register_buffer('running_mean', torch.zeros(num_features))\n",
    "        self.register_buffer('running_cov', torch.eye(num_features))\n",
    "\n",
    "    def forward(self, X):\n",
    "        # If X is not on the main memory, copy moving_mean and moving_var to\n",
    "        # the device where X is located\n",
    "        if self.running_mean.device != X.device:\n",
    "            self.running_mean = self.running_mean.to(X.device)\n",
    "            self.running_cov = self.running_cov.to(X.device)\n",
    "        # Save the updated running_mean and moving_var\n",
    "        # Y, self.running_mean, self.running_var = batch_orthonorm(\n",
    "        #     X, self.gamma, self.beta, self.running_mean,\n",
    "        #     self.running_cov, eps=1e-5, momentum=0.1)\n",
    "        Y, self.running_mean, self.running_cov = batch_orthonorm(\n",
    "            X, self.gamma, self.beta, self.running_mean,\n",
    "            self.running_cov, eps=1e-5, momentum=self.momentum)\n",
    "\n",
    "        return Y\n"
   ]
  },
  {
   "cell_type": "markdown",
   "metadata": {},
   "source": [
    "### IterNorm"
   ]
  },
  {
   "cell_type": "code",
   "execution_count": 3,
   "metadata": {},
   "outputs": [],
   "source": [
    "from torch.nn import Parameter\n",
    "\n",
    "class IterNorm(nn.Module):\n",
    "    def __init__(self, num_features, num_groups=1, num_channels=-1, T=5, dim=4, eps=1e-5, momentum=0.1, affine=True, *args, **kwargs):\n",
    "        super(IterNorm, self).__init__()\n",
    "        # assert dim == 4, 'IterNorm is not support 2D'\n",
    "        self.T = T\n",
    "        self.eps = eps\n",
    "        self.momentum = momentum\n",
    "        self.num_features = num_features\n",
    "        self.affine = affine\n",
    "        self.dim = dim\n",
    "\n",
    "        if num_channels == -1:\n",
    "            num_channels = (num_features - 1) // num_groups + 1\n",
    "        num_groups = num_features // num_channels\n",
    "        while num_features % num_channels != 0:\n",
    "            num_channels //= 2\n",
    "            num_groups = num_features // num_channels\n",
    "        assert num_groups > 0 and num_features % num_groups == 0, \"num features={}, num groups={}\".format(num_features,\n",
    "            num_groups)\n",
    "        self.num_groups = num_groups\n",
    "        self.num_channels = num_channels\n",
    "        shape = [1] * dim\n",
    "        shape[1] = self.num_features\n",
    "        if self.affine:\n",
    "            self.weight = Parameter(torch.Tensor(*shape))\n",
    "            self.bias = Parameter(torch.Tensor(*shape))\n",
    "\n",
    "        if not self.affine:\n",
    "            self.register_parameter('weight', None)\n",
    "            self.register_parameter('bias', None)\n",
    "\n",
    "        self.register_buffer('running_mean', torch.zeros(num_groups, num_channels, 1))\n",
    "        # running whiten matrix\n",
    "        self.register_buffer('running_wm', torch.eye(num_channels).expand(num_groups, num_channels, num_channels))\n",
    "        self.reset_parameters()\n",
    "\n",
    "    def reset_parameters(self):\n",
    "        # self.reset_running_stats()\n",
    "        if self.affine:\n",
    "            self.weight.data.fill_(1.0)\n",
    "            self.bias.data.fill_(0.0)\n",
    "\n",
    "    def forward(self, X: torch.Tensor):\n",
    "        eps = 1e-5\n",
    "        momentum = self.momentum\n",
    "\n",
    "        nc = self.num_channels\n",
    "        T = self.T\n",
    "        g = X.size(1) // nc\n",
    "        x = X.transpose(0, 1).contiguous().view(g, nc, -1)\n",
    "        _, d, m = x.size()\n",
    "        saved = []\n",
    "        if self.training:\n",
    "            # calculate centered activation by subtracted mini-batch mean\n",
    "            mean = x.mean(-1, keepdim=True)\n",
    "            xc = x - mean\n",
    "            # calculate covariance matrix\n",
    "            P = [None] * (T + 1)\n",
    "            P[0] = torch.eye(d).to(X).expand(g, d, d)\n",
    "            # Sigma = torch.baddbmm(eps, P[0], 1. / m, xc, xc.transpose(1, 2))\n",
    "            Sigma = torch.baddbmm(P[0], xc, xc.transpose(1, 2), beta=eps, alpha=1. / m)\n",
    "            # reciprocal of trace of Sigma: shape [g, 1, 1]\n",
    "            rTr = (Sigma * P[0]).sum(1, keepdim=True).sum(2, keepdim=True).reciprocal_()\n",
    "            Sigma_N = Sigma * rTr\n",
    "            for k in range(T):\n",
    "                # P[k + 1] = torch.baddbmm(1.5, P[k], -0.5, P[k].bmm(P[k]).bmm(P[k]), Sigma_N)\n",
    "                P[k + 1] = torch.baddbmm(P[k], P[k].bmm(P[k]).bmm(P[k]), Sigma_N, beta=1.5, alpha=-0.5)\n",
    "            wm = P[T].mul_(rTr.sqrt())  # whiten matrix: the matrix inverse of Sigma, i.e., Sigma^{-1/2}\n",
    "            # self.running_mean += momentum * ( mean.detach() - self.running_mean)\n",
    "            # self.running_wm += momentum * ( wm.detach() - self.running_wm)\n",
    "            self.running_mean = (1-momentum)*self.running_mean + momentum * mean.detach()\n",
    "            self.running_wm = (1-momentum)*self.running_wm + momentum * wm.detach() \n",
    "        else:\n",
    "            xc = x - self.running_mean\n",
    "            wm = self.running_wm\n",
    "        xn = wm.matmul(xc)\n",
    "        X_hat = xn.view(X.size(1), X.size(0), *X.size()[2:]).transpose(0, 1).contiguous()\n",
    "        \n",
    "        # affine\n",
    "        if self.affine:\n",
    "            X_hat = X_hat * self.weight\n",
    "            X_hat = X_hat + self.bias\n",
    "        return X_hat\n",
    "\n",
    "    def extra_repr(self):\n",
    "        return '{num_features}, num_channels={num_channels}, T={T}, eps={eps}, dim={dim}, ' \\\n",
    "               'momentum={momentum}, affine={affine}'.format(**self.__dict__)\n"
   ]
  },
  {
   "cell_type": "markdown",
   "metadata": {},
   "source": [
    "## Validation"
   ]
  },
  {
   "cell_type": "markdown",
   "metadata": {},
   "source": [
    "from [wikipedia](https://en.wikipedia.org/wiki/Covariance_matrix):  \n",
    "The covariance matrix is given by:  \n",
    "![cov](cov.png)\n",
    "\n",
    "and the correlation matrix is given by:  \n",
    "![corr](corr_mat.png)"
   ]
  },
  {
   "cell_type": "code",
   "execution_count": 4,
   "metadata": {},
   "outputs": [],
   "source": [
    "def cov_to_corr(cov_matrix):\n",
    "    # Compute the standard deviations\n",
    "    std = torch.sqrt(torch.diag(cov_matrix))\n",
    "    \n",
    "    # Compute the correlation matrix\n",
    "    corr_matrix = cov_matrix / torch.outer(std, std)\n",
    "    \n",
    "    # Extract upper triangular part (excluding diagonal)\n",
    "    upper_tri = torch.triu(corr_matrix, diagonal=1)\n",
    "    \n",
    "    # Compute average of cross-correlation coefficients\n",
    "    avg_corr = upper_tri.sum() / (upper_tri.numel() - upper_tri.diag().numel())\n",
    "    \n",
    "    return corr_matrix, avg_corr\n"
   ]
  },
  {
   "cell_type": "code",
   "execution_count": 30,
   "metadata": {},
   "outputs": [],
   "source": [
    "def rank_and_avg_corr(x):\n",
    "    # flatten x from [B,C,H,W] to [C,B*H*W]\n",
    "    x_f= x.permute(1,0,2,3).reshape(x.shape[1],-1)\n",
    "    # compute corr matrix\n",
    "    corr_matrix = torch.corrcoef(x_f)\n",
    "    # Extract upper triangular part (excluding diagonal)\n",
    "    upper_tri = torch.triu(corr_matrix, diagonal=1)\n",
    "    # Compute average of cross-correlation coefficients\n",
    "    avg_corr = upper_tri.sum() / (upper_tri.numel() - upper_tri.diag().numel())\n",
    "    rank = torch.linalg.matrix_rank(x_f)/x.shape[1]\n",
    "    return rank,avg_corr\n"
   ]
  },
  {
   "cell_type": "markdown",
   "metadata": {},
   "source": [
    "#### 4D tensor"
   ]
  },
  {
   "cell_type": "code",
   "execution_count": 5,
   "metadata": {},
   "outputs": [
    {
     "name": "stdout",
     "output_type": "stream",
     "text": [
      "generating a tensor of shape (B, 3,32,32) with mean tensor([[56., 57., 25.]]) and covariance \n",
      " tensor([[ 1.1000,  5.0000,  6.0000],\n",
      "        [ 5.0000, 25.1000, 30.0000],\n",
      "        [ 6.0000, 30.0000, 36.1000]]):\n",
      "actual mean and cov: tensor([55.9966, 56.9789, 24.9788]),\n",
      " tensor([[ 1.0954,  4.9635,  5.9524],\n",
      "        [ 4.9635, 24.8639, 29.7060],\n",
      "        [ 5.9524, 29.7060, 35.7314]])\n"
     ]
    }
   ],
   "source": [
    "# Create a batch of 2D images (batch size, channels, height, width)\n",
    "num_features = 3\n",
    "m = torch.randint(10,100,(1,num_features)).float()\n",
    "c = torch.randint(1,10,(1,num_features))\n",
    "cov = c.T@c + 0.1*torch.eye(num_features)\n",
    "\n",
    "print(f'generating a tensor of shape (B, {num_features},32,32) with mean {m} and covariance \\n {cov}:')\n",
    "x = torch.randn(20, num_features, 32, 32).permute(1,0,2,3).reshape(num_features,-1).T\n",
    "L = torch.linalg.cholesky(cov.float())\n",
    "xc= x@L.T + m\n",
    "print(f'actual mean and cov: {xc.mean(0)},\\n {torch.cov(xc.T,correction=0)}')\n",
    "x_c = xc.permute(1,0).reshape(num_features,20,32,32).permute(1,0,2,3)\n",
    "\n"
   ]
  },
  {
   "cell_type": "code",
   "execution_count": 6,
   "metadata": {},
   "outputs": [
    {
     "data": {
      "text/plain": [
       "tensor(1.)"
      ]
     },
     "execution_count": 6,
     "metadata": {},
     "output_type": "execute_result"
    }
   ],
   "source": [
    "# compute the rank\n",
    "torch.linalg.matrix_rank(xc.T)/num_features"
   ]
  },
  {
   "cell_type": "code",
   "execution_count": 22,
   "metadata": {},
   "outputs": [
    {
     "data": {
      "text/plain": [
       "torch.Size([20480, 3])"
      ]
     },
     "execution_count": 22,
     "metadata": {},
     "output_type": "execute_result"
    }
   ],
   "source": [
    "xc.shape"
   ]
  },
  {
   "cell_type": "code",
   "execution_count": 28,
   "metadata": {},
   "outputs": [
    {
     "name": "stdout",
     "output_type": "stream",
     "text": [
      "tensor([[ 1.0000e+00,  2.0510e-05,  4.4876e-05],\n",
      "        [ 2.0510e-05,  1.0000e+00, -2.5317e-04],\n",
      "        [ 4.4876e-05, -2.5317e-04,  1.0011e+00]], grad_fn=<SqueezeBackward0>)\n",
      "Functional validation passed!\n"
     ]
    }
   ],
   "source": [
    "# Our custom batch normalization layer\n",
    "bw_layer = BatchWhitening(num_features,momentum=1)\n",
    "\n",
    "# Forward pass\n",
    "x_w = bw_layer(x_c)\n",
    "\n",
    "x_w_cov = x_w.permute(1,0,2,3).reshape(x.shape[1],-1).cov()\n",
    "print(x_w_cov)\n",
    "# Check if the outputs are indeed orthonormal\n",
    "assert torch.allclose(x_w_cov, torch.eye(num_features), atol=1e-2), \"The outputs are not close enough!\"\n",
    "\n",
    "print(\"Functional validation passed!\")"
   ]
  },
  {
   "cell_type": "code",
   "execution_count": 8,
   "metadata": {},
   "outputs": [
    {
     "name": "stdout",
     "output_type": "stream",
     "text": [
      "tensor([[ 1.0954,  4.9638,  5.9527],\n",
      "        [ 4.9638, 24.8651, 29.7074],\n",
      "        [ 5.9527, 29.7074, 35.7332]])\n"
     ]
    },
    {
     "data": {
      "text/plain": [
       "(tensor([[1.0000, 0.9511, 0.9515],\n",
       "         [0.9511, 1.0000, 0.9966],\n",
       "         [0.9515, 0.9966, 1.0000]]),\n",
       " tensor(0.4832))"
      ]
     },
     "execution_count": 8,
     "metadata": {},
     "output_type": "execute_result"
    }
   ],
   "source": [
    "x_c_cov = x_c.permute(1,0,2,3).reshape(x.shape[1],-1).cov()\n",
    "# we can also compute x_c_cov as follows\n",
    "# torch.cov(x_c.permute(1,0,2,3).reshape(x.shape[1],-1))\n",
    "print(x_c_cov)\n",
    "cov_to_corr(x_c_cov)"
   ]
  },
  {
   "cell_type": "code",
   "execution_count": 25,
   "metadata": {},
   "outputs": [
    {
     "data": {
      "text/plain": [
       "tensor(1.)"
      ]
     },
     "execution_count": 25,
     "metadata": {},
     "output_type": "execute_result"
    }
   ],
   "source": [
    "# compute the rank\n",
    "torch.linalg.matrix_rank(x_c.permute(1,0,2,3).reshape(x.shape[1],-1))/x_c.shape[1]"
   ]
  },
  {
   "cell_type": "code",
   "execution_count": 21,
   "metadata": {},
   "outputs": [
    {
     "data": {
      "text/plain": [
       "tensor([[1.0000, 0.9511, 0.9515],\n",
       "        [0.9511, 1.0000, 0.9966],\n",
       "        [0.9515, 0.9966, 1.0000]], grad_fn=<ClampBackward1>)"
      ]
     },
     "execution_count": 21,
     "metadata": {},
     "output_type": "execute_result"
    }
   ],
   "source": [
    "# direct computation of corr matrix \n",
    "torch.corrcoef(x_c.permute(1,0,2,3).reshape(x_c.shape[1],-1))"
   ]
  },
  {
   "cell_type": "code",
   "execution_count": 27,
   "metadata": {},
   "outputs": [
    {
     "data": {
      "text/plain": [
       "(tensor([[1.0000, 0.9511, 0.9515],\n",
       "         [0.9511, 1.0000, 0.9966],\n",
       "         [0.9515, 0.9966, 1.0000]], grad_fn=<DivBackward0>),\n",
       " tensor(0.4832, grad_fn=<DivBackward0>))"
      ]
     },
     "execution_count": 27,
     "metadata": {},
     "output_type": "execute_result"
    }
   ],
   "source": [
    "# should be close to eye matrix\n",
    "cov_to_corr(x_w_cov)"
   ]
  },
  {
   "cell_type": "code",
   "execution_count": 29,
   "metadata": {},
   "outputs": [
    {
     "data": {
      "text/plain": [
       "tensor([[ 1.0000e+00,  2.0509e-05,  4.4851e-05],\n",
       "        [ 2.0509e-05,  1.0000e+00, -2.5303e-04],\n",
       "        [ 4.4851e-05, -2.5303e-04,  1.0000e+00]], grad_fn=<ClampBackward1>)"
      ]
     },
     "execution_count": 29,
     "metadata": {},
     "output_type": "execute_result"
    }
   ],
   "source": [
    "torch.corrcoef(x_w.permute(1,0,2,3).reshape(x_w.shape[1],-1))"
   ]
  },
  {
   "cell_type": "code",
   "execution_count": 15,
   "metadata": {},
   "outputs": [
    {
     "name": "stdout",
     "output_type": "stream",
     "text": [
      "IterNorm(3, num_channels=1, T=10, eps=1e-05, dim=4, momentum=1, affine=False)\n",
      "tensor([[1.0000, 0.9511, 0.9515],\n",
      "        [0.9511, 1.0000, 0.9967],\n",
      "        [0.9515, 0.9967, 1.0000]], grad_fn=<SqueezeBackward0>)\n"
     ]
    }
   ],
   "source": [
    "# TODO: understand how the algo works so that it whiten the matrix\n",
    "ItN = IterNorm(3, num_groups=3, T=10, momentum=1, affine=False)\n",
    "print(ItN)\n",
    "ItN.train()\n",
    "x_c.requires_grad_()\n",
    "x_w = ItN(x_c)\n",
    "\n",
    "x_w_cov = x_w.permute(1,0,2,3).reshape(x_w.shape[1],-1).cov()\n",
    "print(x_w_cov)\n"
   ]
  },
  {
   "cell_type": "code",
   "execution_count": 14,
   "metadata": {},
   "outputs": [
    {
     "data": {
      "text/plain": [
       "(tensor([[1.0000, 0.9511, 0.9515],\n",
       "         [0.9511, 1.0000, 0.9966],\n",
       "         [0.9515, 0.9966, 1.0000]], grad_fn=<DivBackward0>),\n",
       " tensor(0.4832, grad_fn=<DivBackward0>))"
      ]
     },
     "execution_count": 14,
     "metadata": {},
     "output_type": "execute_result"
    }
   ],
   "source": [
    "cov_to_corr(x_w_cov)"
   ]
  },
  {
   "cell_type": "code",
   "execution_count": 32,
   "metadata": {},
   "outputs": [
    {
     "data": {
      "text/plain": [
       "(tensor(1.), tensor(0.4832, grad_fn=<DivBackward0>))"
      ]
     },
     "execution_count": 32,
     "metadata": {},
     "output_type": "execute_result"
    }
   ],
   "source": [
    "rank_and_avg_corr(x_c)"
   ]
  },
  {
   "cell_type": "code",
   "execution_count": null,
   "metadata": {},
   "outputs": [],
   "source": [
    "x_c.shape"
   ]
  },
  {
   "cell_type": "markdown",
   "metadata": {},
   "source": [
    "#### 2D tensor"
   ]
  },
  {
   "cell_type": "code",
   "execution_count": null,
   "metadata": {},
   "outputs": [],
   "source": [
    "# Create a batch of vectors (B, num_features)\n",
    "num_features = 10\n",
    "m = torch.randint(10,100,(1,num_features)).float()\n",
    "c = torch.randint(1,10,(1,num_features))\n",
    "cov = c.T@c + 0.1*torch.eye(num_features)\n",
    "\n",
    "print(f'generating a tensor of shape (B, {num_features}) with mean {m} and covariance \\n {cov}:')\n",
    "x = torch.randn(20000, num_features)\n",
    "L = torch.linalg.cholesky(cov.float())\n",
    "xc= x@L.T + m \n",
    "\n",
    "print(f'actual mean and cov: {xc.mean(0)},\\n {torch.cov(xc.T,correction=0)}')\n"
   ]
  },
  {
   "cell_type": "code",
   "execution_count": null,
   "metadata": {},
   "outputs": [],
   "source": [
    "# Our custom batch normalization layer\n",
    "bw_layer = BatchWhitening(num_features,momentum=1)\n",
    "\n",
    "# Forward pass\n",
    "x_w = bw_layer(xc)\n",
    "\n",
    "print(torch.cov(x_w.T,correction=0))\n",
    "\n",
    "# Check if the outputs are indeed orthonormal\n",
    "assert torch.allclose(x_w.T.cov(), torch.eye(num_features), atol=1e-2), \"The outputs are not close enough!\"\n",
    "\n",
    "# print(\"Functional validation passed!\")"
   ]
  },
  {
   "cell_type": "code",
   "execution_count": null,
   "metadata": {},
   "outputs": [],
   "source": [
    "custom_bn_output.permute(1,0,2,3).reshape(x.shape[1],-1).cov()"
   ]
  },
  {
   "cell_type": "code",
   "execution_count": null,
   "metadata": {},
   "outputs": [],
   "source": [
    "c=torch.randint(1,10,(3,1))\n",
    "c.shape"
   ]
  },
  {
   "cell_type": "code",
   "execution_count": null,
   "metadata": {},
   "outputs": [],
   "source": [
    "c"
   ]
  },
  {
   "cell_type": "code",
   "execution_count": null,
   "metadata": {},
   "outputs": [],
   "source": [
    "cov = c@c.T\n",
    "cov"
   ]
  },
  {
   "cell_type": "code",
   "execution_count": null,
   "metadata": {},
   "outputs": [],
   "source": []
  },
  {
   "cell_type": "code",
   "execution_count": null,
   "metadata": {},
   "outputs": [],
   "source": [
    "X = torch.randn(20, 10, 50, 50)\n",
    "\n",
    "mean = X.mean(dim=(0, 2, 3))\n",
    "Xtmp = X.view(X.shape[0],X.shape[1],-1)\n",
    "Xtmp = Xtmp.permute(1,0,2).reshape(X.shape[1],-1)\n",
    "cov = torch.cov(Xtmp,correction=0) \n",
    "\n",
    "assert torch.allclose(cov, torch.eye(10), atol=1e-5), \"The outputs are not close enough!\"\n",
    "print(\"Functional validation passed!\")"
   ]
  },
  {
   "cell_type": "markdown",
   "metadata": {},
   "source": [
    "### Debug"
   ]
  },
  {
   "cell_type": "code",
   "execution_count": null,
   "metadata": {},
   "outputs": [],
   "source": [
    "# 4D input tensor\n",
    "n_features = 10\n",
    "X = torch.randn(20, n_features, 50, 50)\n",
    "\n",
    "shape = n_features\n",
    "gamma = torch.ones(shape)\n",
    "beta = torch.zeros(shape)\n",
    "\n",
    "running_mean = torch.zeros(shape)\n",
    "running_cov = torch.eye(shape)\n",
    "\n",
    "mean = X.mean(dim=(0, 2, 3))\n",
    "Xtmp = X.view(X.shape[0],X.shape[1],-1)\n",
    "Xtmp = Xtmp.permute(1,0,2).reshape(X.shape[1],-1)\n",
    "cov = torch.cov(Xtmp,correction=0) \n",
    "\n",
    "\n",
    "momentum = 0.1 \n",
    "eps = 1e-5\n",
    "running_mean = (1.0 - momentum) * running_mean + momentum * mean\n",
    "running_cov = (1.0 - momentum) * running_cov + momentum * cov\n",
    "\n",
    "L = torch.linalg.cholesky(running_cov + eps*torch.eye(n_features))\n",
    "X_hat = X-running_mean.view(1,n_features,1,1)\n",
    "X_hat = X_hat.permute(1,0,2,3).reshape(X.shape[1],-1)\n",
    "Y = torch.linalg.solve_triangular(L,X_hat,upper=False).reshape(X.shape[1],X.shape[0],X.shape[2],X.shape[3]).permute(1,0,2,3)\n",
    "\n",
    "\n",
    "# assert torch.allclose(cov, torch.eye(10), atol=1e-5), \"The outputs are not close enough!\"\n",
    "# print(\"Functional validation passed!\")"
   ]
  },
  {
   "cell_type": "code",
   "execution_count": null,
   "metadata": {},
   "outputs": [],
   "source": [
    "# 2D input tensor\n",
    "n_features = 10\n",
    "X = torch.randn(20, n_features)\n",
    "\n",
    "shape = n_features\n",
    "gamma = torch.ones(shape)\n",
    "beta = torch.zeros(shape)\n",
    "\n",
    "running_mean = torch.zeros(shape)\n",
    "running_cov = torch.eye(shape)\n",
    "\n",
    "mean = X.mean(dim=0)\n",
    "cov = torch.cov(X.T,correction=0)\n",
    "\n",
    "momentum = 0.1 \n",
    "eps = 1e-5\n",
    "running_mean = (1.0 - momentum) * running_mean + momentum * mean\n",
    "running_cov = (1.0 - momentum) * running_cov + momentum * cov\n",
    "\n",
    "L = torch.linalg.cholesky(running_cov + eps*torch.eye(n_features))\n",
    "X_hat = X-running_mean.view(1,n_features)\n",
    "X_hat = X_hat.T\n",
    "Y = torch.linalg.solve_triangular(L,X_hat,upper=False).T\n"
   ]
  },
  {
   "cell_type": "code",
   "execution_count": null,
   "metadata": {},
   "outputs": [],
   "source": [
    "def batch_orthonorm(X, gamma, beta, running_mean, running_cov, eps, momentum):\n",
    "    # Use is_grad_enabled to determine whether we are in training mode\n",
    "    assert len(X.shape) in (2, 4)\n",
    "    n_features = X.shape[1]\n",
    "\n",
    "    if len(X.shape) == 2:\n",
    "        # When using a fully connected layer, calculate the mean and\n",
    "        # variance on the feature dimension\n",
    "        shape = (1, n_features)\n",
    "        mean = X.mean(dim=0)\n",
    "        cov = torch.cov(X.T,correction=0)        \n",
    "        # var = ((X - mean) ** 2).mean(dim=0)\n",
    "    else:\n",
    "        # When using a two-dimensional convolutional layer, calculate the\n",
    "        # mean and covariance on the channel dimension (axis=1). Here we\n",
    "        # need to maintain the shape of X, so that the broadcasting\n",
    "        # operation can be carried out later\n",
    "        shape = (1, n_features, 1, 1)\n",
    "        mean = X.mean(dim=(0, 2, 3), keepdim=True)\n",
    "        Xtmp = X.view(X.shape[0],X.shape[1],-1)\n",
    "        Xtmp = Xtmp.permute(1,0,2).reshape(X.shape[1],-1)\n",
    "        cov = torch.cov(Xtmp,correction=0) \n",
    "        # var = ((X - mean) ** 2).mean(dim=(0, 2, 3), keepdim=True)\n",
    "    # In training mode, the current mean and variance are used\n",
    "    # Update the mean and variance using moving average\n",
    "    running_mean = (1.0 - momentum) * running_mean + momentum * mean\n",
    "    running_cov = (1.0 - momentum) * running_cov + momentum * cov\n",
    "    L = torch.linalg.cholesky(running_cov + eps*torch.eye(n_features))\n",
    "    if len(X.shape) == 2:\n",
    "        X_hat = (X-running_mean.view(1,n_features)).T\n",
    "        Y = torch.linalg.solve_triangular(L,X_hat,upper=False).T\n",
    "    else:\n",
    "        X_hat = X-running_mean.view(1,n_features,1,1)\n",
    "        X_hat = X_hat.permute(1,0,2,3).reshape(X.shape[1],-1)\n",
    "        Y = torch.linalg.solve_triangular(L,X_hat,upper=False).reshape(X.shape[1],X.shape[0],X.shape[2],X.shape[3]).permute(1,0,2,3)\n",
    "    # Y = gamma.view(shape) * Y + beta.view(shape)  # Scale and shift\n",
    "    return Y, running_mean.data, running_cov.data\n"
   ]
  },
  {
   "cell_type": "code",
   "execution_count": null,
   "metadata": {},
   "outputs": [],
   "source": [
    "import torch\n",
    "\n",
    "def cov_to_corr(cov_matrix):\n",
    "    # Compute the standard deviations\n",
    "    std = torch.sqrt(torch.diag(cov_matrix))\n",
    "    \n",
    "    # Compute the correlation matrix\n",
    "    corr_matrix = cov_matrix / torch.outer(std, std)\n",
    "    \n",
    "    # Extract upper triangular part (excluding diagonal)\n",
    "    upper_tri = torch.triu(corr_matrix, diagonal=1)\n",
    "    \n",
    "    # Compute average of cross-correlation coefficients\n",
    "    avg_corr = upper_tri.sum() / (upper_tri.numel() - upper_tri.diag().numel())\n",
    "    \n",
    "    return corr_matrix, avg_corr\n",
    "\n",
    "# Example usage\n",
    "D = 5  # Dimension of the covariance matrix\n",
    "cov_matrix = torch.randn(D, D)\n",
    "cov_matrix = torch.mm(cov_matrix, cov_matrix.t())  # Ensure positive semi-definite\n",
    "\n",
    "corr_matrix, avg_cross_corr = cov_to_corr(cov_matrix)\n",
    "\n",
    "print(\"Correlation Matrix:\")\n",
    "print(corr_matrix)\n",
    "print(\"\\nAverage Cross-Correlation Coefficient:\", avg_cross_corr.item())"
   ]
  },
  {
   "cell_type": "markdown",
   "metadata": {},
   "source": [
    "## IterNorm"
   ]
  },
  {
   "cell_type": "code",
   "execution_count": null,
   "metadata": {},
   "outputs": [],
   "source": [
    "ItN = IterNorm(64, num_groups=8, T=10, momentum=1, affine=False)\n",
    "print(ItN)\n",
    "ItN.train()\n",
    "x = torch.randn(32, 64, 14, 14)\n",
    "# x = torch.randn(128, 64)\n",
    "x.requires_grad_()\n"
   ]
  },
  {
   "cell_type": "code",
   "execution_count": null,
   "metadata": {},
   "outputs": [],
   "source": [
    "x.shape"
   ]
  },
  {
   "cell_type": "code",
   "execution_count": null,
   "metadata": {},
   "outputs": [],
   "source": [
    "y = ItN(x)\n",
    "z = y.transpose(0, 1).contiguous().view(x.size(1), -1)\n",
    "print(z.matmul(z.t()) / z.size(1))\n",
    "\n"
   ]
  },
  {
   "cell_type": "code",
   "execution_count": null,
   "metadata": {},
   "outputs": [],
   "source": [
    "z.shape"
   ]
  },
  {
   "cell_type": "code",
   "execution_count": null,
   "metadata": {},
   "outputs": [],
   "source": [
    "print(torch.cov(z,correction=0))"
   ]
  },
  {
   "cell_type": "code",
   "execution_count": null,
   "metadata": {},
   "outputs": [],
   "source": [
    "y.sum().backward()\n",
    "print('x grad', x.grad.size())\n",
    "\n"
   ]
  },
  {
   "cell_type": "code",
   "execution_count": null,
   "metadata": {},
   "outputs": [],
   "source": [
    "ItN.eval()\n",
    "y = ItN(x)\n",
    "z = y.transpose(0, 1).contiguous().view(x.size(1), -1)\n",
    "print(z.matmul(z.t()) / z.size(1))\n"
   ]
  }
 ],
 "metadata": {
  "kernelspec": {
   "display_name": "Python 3",
   "language": "python",
   "name": "python3"
  },
  "language_info": {
   "codemirror_mode": {
    "name": "ipython",
    "version": 3
   },
   "file_extension": ".py",
   "mimetype": "text/x-python",
   "name": "python",
   "nbconvert_exporter": "python",
   "pygments_lexer": "ipython3",
   "version": "3.10.12"
  }
 },
 "nbformat": 4,
 "nbformat_minor": 2
}
