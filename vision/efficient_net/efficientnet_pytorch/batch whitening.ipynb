{
 "cells": [
  {
   "cell_type": "markdown",
   "metadata": {},
   "source": [
    "# Batch Whitening Layer\n",
    "The purpose of this notebook is to implement the batch whitening layer.   \n",
    "The implementation is inspired by the implementation of BatchNorm layer from [this reference](https://d2l.ai/chapter_convolutional-modern/batch-norm.html)\n"
   ]
  },
  {
   "cell_type": "code",
   "execution_count": 1,
   "metadata": {},
   "outputs": [
    {
     "name": "stdout",
     "output_type": "stream",
     "text": [
      "Device to use: cuda:0\n"
     ]
    }
   ],
   "source": [
    "import torch\n",
    "import torch.nn as nn \n",
    "import torch.nn.functional as F \n",
    "import numpy as np \n",
    "\n",
    "use_cuda = torch.cuda.is_available()\n",
    "device = torch.device(\"cuda:0\" if use_cuda else \"cpu\")\n",
    "print(\"Device to use:\", device)\n"
   ]
  },
  {
   "cell_type": "markdown",
   "metadata": {},
   "source": [
    "## Batch Normalization  \n",
    "Lets start with implementing BatchNorm from scratch and test it on a simple dataset.\n"
   ]
  },
  {
   "cell_type": "markdown",
   "metadata": {},
   "source": [
    "### Option 1"
   ]
  },
  {
   "cell_type": "code",
   "execution_count": null,
   "metadata": {},
   "outputs": [],
   "source": [
    "def batch_norm(X, gamma, beta, running_mean, running_var, eps, momentum):\n",
    "    # Use is_grad_enabled to determine whether we are in training mode\n",
    "    assert len(X.shape) in (2, 4)\n",
    "    if len(X.shape) == 2:\n",
    "        shape = (1, X.shape[1])\n",
    "    else:\n",
    "        shape = (1, X.shape[1], 1, 1)\n",
    "\n",
    "    if not torch.is_grad_enabled():\n",
    "        # In prediction mode, use mean and variance obtained by moving average\n",
    "        X_hat = (X - running_mean) / torch.sqrt(running_var + eps)\n",
    "    else:\n",
    "        if len(X.shape) == 2:\n",
    "            # When using a fully connected layer, calculate the mean and\n",
    "            # variance on the feature dimension\n",
    "            mean = X.mean(dim=0)\n",
    "            var = ((X - mean) ** 2).mean(dim=0)\n",
    "        else:\n",
    "            # When using a two-dimensional convolutional layer, calculate the\n",
    "            # mean and variance on the channel dimension (axis=1). Here we\n",
    "            # need to maintain the shape of X, so that the broadcasting\n",
    "            # operation can be carried out later\n",
    "            mean = X.mean(dim=(0, 2, 3), keepdim=True)\n",
    "            var = ((X - mean) ** 2).mean(dim=(0, 2, 3), keepdim=True)\n",
    "        # In training mode, the current mean and variance are used\n",
    "        X_hat = (X - mean) / torch.sqrt(var + eps)\n",
    "        # Update the mean and variance using moving average\n",
    "        running_mean = (1.0 - momentum) * running_mean + momentum * mean\n",
    "        running_var = (1.0 - momentum) * running_var + momentum * var\n",
    "    Y = gamma.view(shape) * X_hat + beta.view(shape)  # Scale and shift\n",
    "    return Y, running_mean.data, running_var.data\n",
    "\n",
    "\n",
    "class BatchNorm(nn.Module):\n",
    "    # num_features: the number of outputs for a fully connected layer or the\n",
    "    # number of output channels for a convolutional layer. num_dims: 2 for a\n",
    "    # fully connected layer and 4 for a convolutional layer\n",
    "    def __init__(self, num_features, num_dims):\n",
    "        super().__init__()\n",
    "        # if num_dims == 2:\n",
    "        #     shape = (1, num_features)\n",
    "        # else:\n",
    "        #     shape = (1, num_features, 1, 1)\n",
    "        shape = num_features\n",
    "        # The scale parameter and the shift parameter (model parameters) are\n",
    "        # initialized to 1 and 0, respectively\n",
    "        self.gamma = nn.Parameter(torch.ones(shape))\n",
    "        self.beta = nn.Parameter(torch.zeros(shape))\n",
    "\n",
    "        # The variables that are not model parameters are initialized to 0 and 1\n",
    "        # self.running_mean = torch.zeros(shape)\n",
    "        # self.running_var = torch.ones(shape)\n",
    "        self.register_buffer('running_mean', torch.zeros(shape))\n",
    "        self.register_buffer('running_var', torch.ones(shape))\n",
    "\n",
    "    def forward(self, X):\n",
    "        # If X is not on the main memory, copy moving_mean and moving_var to\n",
    "        # the device where X is located\n",
    "        if self.running_mean.device != X.device:\n",
    "            self.running_mean = self.running_mean.to(X.device)\n",
    "            self.running_var = self.running_var.to(X.device)\n",
    "        # Save the updated running_mean and moving_var\n",
    "        Y, self.running_mean, self.running_var = batch_norm(\n",
    "            X, self.gamma, self.beta, self.running_mean,\n",
    "            self.running_var, eps=1e-5, momentum=0.1)\n",
    "        return Y\n"
   ]
  },
  {
   "cell_type": "markdown",
   "metadata": {},
   "source": [
    "### Option 2"
   ]
  },
  {
   "cell_type": "code",
   "execution_count": null,
   "metadata": {},
   "outputs": [],
   "source": [
    "class BatchNorm2d(nn.Module):\n",
    "    def __init__(self, num_features, eps=1e-5, momentum=0.1):\n",
    "        super(BatchNorm2d, self).__init__()\n",
    "        self.num_features = num_features\n",
    "        self.eps = eps\n",
    "        self.momentum = momentum\n",
    "        # Learnable parameters\n",
    "        self.gamma = nn.Parameter(torch.ones(num_features))\n",
    "        self.beta = nn.Parameter(torch.zeros(num_features))\n",
    "        # Running mean and variance\n",
    "        self.register_buffer('running_mean', torch.zeros(num_features))\n",
    "        self.register_buffer('running_var', torch.ones(num_features))\n",
    "\n",
    "    def forward(self, x):\n",
    "        if self.training:\n",
    "            # Calculate mean and variance for the batch\n",
    "            mean = x.mean([0, 2, 3], keepdim=True)\n",
    "            var = x.var([0, 2, 3], keepdim=True, unbiased=False)\n",
    "            # Update running mean and variance\n",
    "            self.running_mean = (1 - self.momentum) * self.running_mean + self.momentum * mean\n",
    "            self.running_var = (1 - self.momentum) * self.running_var + self.momentum * var\n",
    "        else:\n",
    "            mean = self.running_mean\n",
    "            var = self.running_var\n",
    "        \n",
    "        # Normalize\n",
    "        x_normalized = (x - mean) / torch.sqrt(var + self.eps)\n",
    "        # Scale and shift\n",
    "        out = self.gamma.view(1, self.num_features, 1, 1) * x_normalized + self.beta.view(1, self.num_features, 1, 1)\n",
    "        \n",
    "        return out"
   ]
  },
  {
   "cell_type": "markdown",
   "metadata": {},
   "source": [
    "### Validation\n"
   ]
  },
  {
   "cell_type": "code",
   "execution_count": null,
   "metadata": {},
   "outputs": [],
   "source": [
    "# Create a batch of 2D images (batch size, channels, height, width)\n",
    "x = torch.randn(20, 10, 50, 50)\n",
    "\n",
    "# Our custom batch normalization layer\n",
    "custom_bn = BatchNorm(num_features=10, num_dims=4)\n",
    "# custom_bn = BatchNorm2d(num_features=10)\n",
    "\n",
    "# PyTorch's built-in batch normalization layer\n",
    "torch_bn = nn.BatchNorm2d(num_features=10)\n",
    "\n",
    "\n",
    "# Copy the parameters from our custom layer to the built-in layer for a fair comparison\n",
    "torch_bn.weight.data = custom_bn.gamma.data.clone()\n",
    "torch_bn.bias.data = custom_bn.beta.data.clone()\n",
    "torch_bn.running_mean = custom_bn.running_mean.clone()\n",
    "torch_bn.running_var = custom_bn.running_var.clone()\n",
    "\n",
    "# Forward pass\n",
    "custom_bn_output = custom_bn(x)\n",
    "torch_bn_output = torch_bn(x)\n",
    "\n",
    "# Check if the outputs are close\n",
    "assert torch.allclose(custom_bn_output, torch_bn_output, atol=1e-5), \"The outputs are not close enough!\"\n",
    "\n",
    "print(\"Functional validation passed!\")"
   ]
  },
  {
   "cell_type": "code",
   "execution_count": null,
   "metadata": {},
   "outputs": [],
   "source": [
    "x.shape"
   ]
  },
  {
   "cell_type": "code",
   "execution_count": null,
   "metadata": {},
   "outputs": [],
   "source": [
    "x.var([0, 2, 3], keepdim=True, unbiased=False).shape"
   ]
  },
  {
   "cell_type": "code",
   "execution_count": null,
   "metadata": {},
   "outputs": [],
   "source": [
    "custom_bn.training"
   ]
  },
  {
   "cell_type": "markdown",
   "metadata": {},
   "source": [
    "# Batch Whitening"
   ]
  },
  {
   "cell_type": "markdown",
   "metadata": {},
   "source": [
    "## implementation"
   ]
  },
  {
   "cell_type": "markdown",
   "metadata": {},
   "source": [
    "### Choleski"
   ]
  },
  {
   "cell_type": "code",
   "execution_count": 2,
   "metadata": {},
   "outputs": [],
   "source": [
    "def batch_orthonorm_obsolete(X, gamma, beta, running_mean=None, running_cov=None, eps=1e-5, momentum=0.1):\n",
    "    # Use is_grad_enabled to determine whether we are in training mode\n",
    "    assert len(X.shape) in (2, 4)\n",
    "    n_features = X.shape[1]\n",
    "\n",
    "    if len(X.shape) == 2:\n",
    "        # When using a fully connected layer, calculate the mean and\n",
    "        # variance on the feature dimension\n",
    "        shape = (1, n_features)\n",
    "        mean = X.mean(dim=0)\n",
    "        cov = torch.cov(X.T,correction=0)        \n",
    "        # var = ((X - mean) ** 2).mean(dim=0)\n",
    "    else:\n",
    "        # When using a two-dimensional convolutional layer, calculate the\n",
    "        # mean and covariance on the channel dimension (axis=1). Here we\n",
    "        # need to maintain the shape of X, so that the broadcasting\n",
    "        # operation can be carried out later\n",
    "        shape = (1, n_features, 1, 1)\n",
    "        mean = X.mean(dim=(0, 2, 3))\n",
    "        Xtmp = X.view(X.shape[0],X.shape[1],-1)\n",
    "        Xtmp = Xtmp.permute(1,0,2).reshape(X.shape[1],-1)\n",
    "        cov = torch.cov(Xtmp,correction=0) \n",
    "        # var = ((X - mean) ** 2).mean(dim=(0, 2, 3), keepdim=True)\n",
    "    # In training mode, the current mean and variance are used\n",
    "    # Update the mean and variance using moving average\n",
    "    running_mean = (1.0 - momentum) * running_mean + momentum * mean\n",
    "    running_cov = (1.0 - momentum) * running_cov + momentum * cov\n",
    "    L = torch.linalg.cholesky(running_cov + eps*torch.eye(n_features))\n",
    "    if len(X.shape) == 2:\n",
    "        X_hat = (X-running_mean.view(1,n_features)).T\n",
    "        Y = torch.linalg.solve_triangular(L,X_hat,upper=False).T\n",
    "    else:\n",
    "        X_hat = X-running_mean.view(1,n_features,1,1)\n",
    "        X_hat = X_hat.permute(1,0,2,3).reshape(X.shape[1],-1)\n",
    "        Y = torch.linalg.solve_triangular(L,X_hat,upper=False).reshape(X.shape[1],X.shape[0],X.shape[2],X.shape[3]).permute(1,0,2,3)\n",
    "    # Y = gamma.view(shape) * Y + beta.view(shape)  # Scale and shift\n",
    "    return Y, running_mean.data, running_cov.data\n",
    "\n",
    "def batch_orthonorm(X, gamma, beta, running_mean=None, running_cov=None, eps=1e-5, momentum=0.1):\n",
    "    # Use is_grad_enabled to determine whether we are in training mode\n",
    "    assert len(X.shape) in (2, 4)\n",
    "    n_features = X.shape[1]\n",
    "\n",
    "    if len(X.shape) == 2:\n",
    "        # When using a fully connected layer, calculate the mean and\n",
    "        # variance on the feature dimension\n",
    "        shape = (1, n_features)\n",
    "        mean = X.mean(dim=0)\n",
    "        cov = torch.cov(X.T,correction=0)        \n",
    "        # var = ((X - mean) ** 2).mean(dim=0)\n",
    "    else:\n",
    "        # When using a two-dimensional convolutional layer, calculate the\n",
    "        # mean and covariance on the channel dimension (axis=1). Here we\n",
    "        # need to maintain the shape of X, so that the broadcasting\n",
    "        # operation can be carried out later\n",
    "        shape = (1, n_features, 1, 1)\n",
    "        mean = X.mean(dim=(0, 2, 3))\n",
    "        Xtmp = X.view(X.shape[0],X.shape[1],-1)\n",
    "        Xtmp = Xtmp.permute(1,0,2).reshape(X.shape[1],-1)\n",
    "        cov = torch.cov(Xtmp,correction=0) \n",
    "        # var = ((X - mean) ** 2).mean(dim=(0, 2, 3), keepdim=True)\n",
    "    # In training mode, the current mean and variance are used\n",
    "    # Update the mean and variance using moving average\n",
    "    if torch.is_grad_enabled():\n",
    "        running_mean = (1.0 - momentum) * running_mean + momentum * mean\n",
    "        running_cov = (1.0 - momentum) * running_cov + momentum * cov\n",
    "        L = torch.linalg.cholesky(cov + eps*torch.eye(n_features))\n",
    "        if len(X.shape) == 2:\n",
    "            X_hat = (X-mean.view(1,n_features)).T\n",
    "            Y = torch.linalg.solve_triangular(L,X_hat,upper=False).T\n",
    "        else:\n",
    "            X_hat = X-mean.view(1,n_features,1,1)\n",
    "            X_hat = X_hat.permute(1,0,2,3).reshape(X.shape[1],-1)\n",
    "            Y = torch.linalg.solve_triangular(L,X_hat,upper=False).reshape(X.shape[1],X.shape[0],X.shape[2],X.shape[3]).permute(1,0,2,3)\n",
    "    else:\n",
    "        L = torch.linalg.cholesky(running_cov + eps*torch.eye(n_features))\n",
    "        if len(X.shape) == 2:\n",
    "            X_hat = (X-running_mean.view(1,n_features)).T\n",
    "            Y = torch.linalg.solve_triangular(L,X_hat,upper=False).T\n",
    "        else:\n",
    "            X_hat = X-running_mean.view(1,n_features,1,1)\n",
    "            X_hat = X_hat.permute(1,0,2,3).reshape(X.shape[1],-1)\n",
    "            Y = torch.linalg.solve_triangular(L,X_hat,upper=False).reshape(X.shape[1],X.shape[0],X.shape[2],X.shape[3]).permute(1,0,2,3)\n",
    "    # Y = gamma.view(shape) * Y + beta.view(shape)  # Scale and shift\n",
    "    return Y, running_mean.data, running_cov.data\n",
    "\n",
    "class BatchWhitening(nn.Module):\n",
    "    # num_features: the number of outputs for a fully connected layer or the\n",
    "    # number of output channels for a convolutional layer. num_dims: 2 for a\n",
    "    # fully connected layer and 4 for a convolutional layer\n",
    "    def __init__(self, num_features,momentum=0.1):\n",
    "        super().__init__()\n",
    "        # The scale parameter and the shift parameter (model parameters) are\n",
    "        # initialized to 1 and 0, respectively\n",
    "        self.momentum = momentum\n",
    "        self.gamma = nn.Parameter(torch.ones(num_features))\n",
    "        self.beta = nn.Parameter(torch.zeros(num_features))\n",
    "        # The variables that are not model parameters are initialized to 0 and 1\n",
    "        self.register_buffer('running_mean', torch.zeros(num_features))\n",
    "        self.register_buffer('running_cov', torch.eye(num_features))\n",
    "\n",
    "    def forward(self, X):\n",
    "        # If X is not on the main memory, copy moving_mean and moving_var to\n",
    "        # the device where X is located\n",
    "        if self.running_mean.device != X.device:\n",
    "            self.running_mean = self.running_mean.to(X.device)\n",
    "            self.running_cov = self.running_cov.to(X.device)\n",
    "        # Save the updated running_mean and moving_var\n",
    "        # Y, self.running_mean, self.running_var = batch_orthonorm(\n",
    "        #     X, self.gamma, self.beta, self.running_mean,\n",
    "        #     self.running_cov, eps=1e-5, momentum=0.1)\n",
    "        Y, self.running_mean, self.running_cov = batch_orthonorm(\n",
    "            X, self.gamma, self.beta, self.running_mean,\n",
    "            self.running_cov, eps=1e-5, momentum=self.momentum)\n",
    "\n",
    "        return Y\n"
   ]
  },
  {
   "cell_type": "markdown",
   "metadata": {},
   "source": [
    "### IterNorm"
   ]
  },
  {
   "cell_type": "code",
   "execution_count": 130,
   "metadata": {},
   "outputs": [],
   "source": [
    "from torch.nn import Parameter\n",
    "\n",
    "def fix_cov(c):\n",
    "    a=0.9+0.1*torch.exp(-(c/0.9)**10)\n",
    "    torch.diagonal(a).fill_(1.0)\n",
    "    return a*c\n",
    "\n",
    "class IterNorm(nn.Module):\n",
    "    def __init__(self, num_features, num_groups=1, num_channels=-1, T=5, dim=4, eps=1e-5, momentum=0.1, affine=True, *args, **kwargs):\n",
    "        super(IterNorm, self).__init__()\n",
    "        # assert dim == 4, 'IterNorm is not support 2D'\n",
    "        self.T = T\n",
    "        self.eps = eps\n",
    "        self.momentum = momentum\n",
    "        self.num_features = num_features\n",
    "        self.affine = affine\n",
    "        self.dim = dim\n",
    "\n",
    "        if num_channels == -1:\n",
    "            num_channels = (num_features - 1) // num_groups + 1\n",
    "        num_groups = num_features // num_channels\n",
    "        while num_features % num_channels != 0:\n",
    "            num_channels //= 2\n",
    "            num_groups = num_features // num_channels\n",
    "        assert num_groups > 0 and num_features % num_groups == 0, \"num features={}, num groups={}\".format(num_features,\n",
    "            num_groups)\n",
    "        self.num_groups = num_groups\n",
    "        self.num_channels = num_channels\n",
    "        shape = [1] * dim\n",
    "        shape[1] = self.num_features\n",
    "        if self.affine:\n",
    "            self.weight = Parameter(torch.Tensor(*shape))\n",
    "            self.bias = Parameter(torch.Tensor(*shape))\n",
    "\n",
    "        if not self.affine:\n",
    "            self.register_parameter('weight', None)\n",
    "            self.register_parameter('bias', None)\n",
    "\n",
    "        self.register_buffer('running_mean', torch.zeros(num_groups, num_channels, 1))\n",
    "        # running whiten matrix\n",
    "        self.register_buffer('running_wm', torch.eye(num_channels).expand(num_groups, num_channels, num_channels))\n",
    "        self.reset_parameters()\n",
    "\n",
    "    def reset_parameters(self):\n",
    "        # self.reset_running_stats()\n",
    "        if self.affine:\n",
    "            self.weight.data.fill_(1.0)\n",
    "            self.bias.data.fill_(0.0)\n",
    "\n",
    "    def forward(self, X: torch.Tensor):\n",
    "        eps = 1e-5\n",
    "        momentum = self.momentum\n",
    "\n",
    "        nc = self.num_channels\n",
    "        T = self.T\n",
    "        g = X.size(1) // nc\n",
    "        x = X.transpose(0, 1).contiguous().view(g, nc, -1)\n",
    "        _, d, m = x.size()\n",
    "        if self.training:\n",
    "            # calculate centered activation by subtracted mini-batch mean\n",
    "            mean = x.mean(-1, keepdim=True)\n",
    "            xc = x - mean\n",
    "            # calculate covariance matrix\n",
    "            P = [None] * (T + 1)\n",
    "            P[0] = torch.eye(d).to(X).expand(g, d, d)\n",
    "            # Sigma = torch.baddbmm(eps, P[0], 1. / m, xc, xc.transpose(1, 2))\n",
    "            Sigma = torch.baddbmm(P[0], xc, xc.transpose(1, 2), beta=eps, alpha=1. / m)  # =torch.cov(xc,correction=0)\n",
    "            Sigma[0]=fix_cov(Sigma[0])\n",
    "            # reciprocal of trace of Sigma: shape [g, 1, 1]\n",
    "            rTr = (Sigma * P[0]).sum(1, keepdim=True).sum(2, keepdim=True).reciprocal_()\n",
    "            Sigma_N = Sigma * rTr\n",
    "            for k in range(T):\n",
    "                # P[k + 1] = torch.baddbmm(1.5, P[k], -0.5, P[k].bmm(P[k]).bmm(P[k]), Sigma_N)\n",
    "                P[k + 1] = torch.baddbmm(P[k], P[k].bmm(P[k]).bmm(P[k]), Sigma_N, beta=1.5, alpha=-0.5)\n",
    "            wm = P[T].mul_(rTr.sqrt())  # whiten matrix: the matrix inverse of Sigma, i.e., Sigma^{-1/2}\n",
    "            # self.running_mean += momentum * ( mean.detach() - self.running_mean)\n",
    "            # self.running_wm += momentum * ( wm.detach() - self.running_wm)\n",
    "            self.running_mean = (1-momentum)*self.running_mean + momentum * mean.detach()\n",
    "            self.running_wm = (1-momentum)*self.running_wm + momentum * wm.detach() \n",
    "        else:\n",
    "            xc = x - self.running_mean\n",
    "            wm = self.running_wm\n",
    "        xn = wm.matmul(xc)\n",
    "        X_hat = xn.view(X.size(1), X.size(0), *X.size()[2:]).transpose(0, 1).contiguous()\n",
    "        \n",
    "        # affine\n",
    "        if self.affine:\n",
    "            X_hat = X_hat * self.weight\n",
    "            X_hat = X_hat + self.bias\n",
    "        return X_hat\n",
    "\n",
    "    def extra_repr(self):\n",
    "        return '{num_features}, num_channels={num_channels}, T={T}, eps={eps}, dim={dim}, ' \\\n",
    "               'momentum={momentum}, affine={affine}'.format(**self.__dict__)\n"
   ]
  },
  {
   "cell_type": "markdown",
   "metadata": {},
   "source": [
    "## Validation"
   ]
  },
  {
   "cell_type": "markdown",
   "metadata": {},
   "source": [
    "from [wikipedia](https://en.wikipedia.org/wiki/Covariance_matrix):  \n",
    "The covariance matrix is given by:  \n",
    "![cov](cov.png)\n",
    "\n",
    "and the correlation matrix is given by:  \n",
    "![corr](corr_mat.png)\n",
    "\n",
    "so if we have a matrix of `N` samples of a random vector $x \\in \\mathbb{R}^C$ , we can compute the covariance of the random vector as follows:\n",
    "`corr_matrix = torch.corrcoef(x_f)`  \n",
    "and we can also compute the covariance matrix with: `cov_matrix = x.cov()`   \n",
    "\n",
    "we can also get `corr_matrix` from `cov_matrix` using the following function:"
   ]
  },
  {
   "cell_type": "code",
   "execution_count": 4,
   "metadata": {},
   "outputs": [],
   "source": [
    "import numpy as np\n",
    "\n",
    "def generate_well_conditioned_covariance(n, condition_number=2):\n",
    "    # Step 1: Generate a random matrix\n",
    "    # L = np.random.rand(n, n)\n",
    "    L = torch.rand(n, n)\n",
    "    \n",
    "    # Step 2: Make it lower triangular with positive diagonal\n",
    "    L = torch.tril(L) + n * torch.eye(n)\n",
    "    \n",
    "    # Step 3: Construct the symmetric positive definite matrix\n",
    "    A = L@L.T\n",
    "    \n",
    "    # Step 4: Adjust the condition number\n",
    "    # Scale the matrix to have a desired condition number\n",
    "    u, s, vh = torch.linalg.svd(A)\n",
    "    s = torch.linspace(s[0], s[0] / condition_number, len(s))\n",
    "    A = (u * s)@vh\n",
    "    \n",
    "    return A\n"
   ]
  },
  {
   "cell_type": "code",
   "execution_count": 7,
   "metadata": {},
   "outputs": [
    {
     "name": "stdout",
     "output_type": "stream",
     "text": [
      "tensor([[11.6849,  4.2934,  2.5641],\n",
      "        [ 4.2934,  4.7783,  4.6226],\n",
      "        [ 2.5641,  4.6226, 14.7474]])\n"
     ]
    },
    {
     "data": {
      "text/plain": [
       "tensor([18.9155+0.j, 10.4035+0.j,  1.8916+0.j])"
      ]
     },
     "execution_count": 7,
     "metadata": {},
     "output_type": "execute_result"
    }
   ],
   "source": [
    "cov=generate_well_conditioned_covariance(3,10)\n",
    "print(cov)\n",
    "torch.linalg.eig(cov)[0]"
   ]
  },
  {
   "cell_type": "code",
   "execution_count": 8,
   "metadata": {},
   "outputs": [
    {
     "data": {
      "text/plain": [
       "tensor(10.0000)"
      ]
     },
     "execution_count": 8,
     "metadata": {},
     "output_type": "execute_result"
    }
   ],
   "source": [
    "torch.linalg.cond(cov)"
   ]
  },
  {
   "cell_type": "code",
   "execution_count": 9,
   "metadata": {},
   "outputs": [],
   "source": [
    "def cov_to_corr(cov_matrix):\n",
    "    # Compute the standard deviations\n",
    "    std = torch.sqrt(torch.diag(cov_matrix))\n",
    "    \n",
    "    # Compute the correlation matrix\n",
    "    corr_matrix = cov_matrix / torch.outer(std, std)\n",
    "    \n",
    "    # Extract upper triangular part (excluding diagonal)\n",
    "    upper_tri = torch.triu(corr_matrix, diagonal=1)\n",
    "    \n",
    "    # Compute average of cross-correlation coefficients\n",
    "    avg_corr = upper_tri.sum() / (upper_tri.numel() - upper_tri.diag().numel())\n",
    "    \n",
    "    return corr_matrix, avg_corr\n",
    "\n",
    "\n",
    "def corr_to_cov(corr_matrix,std):\n",
    "    # Compute the standard deviations\n",
    "    D = torch.diag(std)\n",
    "    # D=torch.outer(std,std)\n",
    "    # cov=corr_matrix * torch.outer(std,std)\n",
    "    return D@corr_matrix@D\n"
   ]
  },
  {
   "cell_type": "code",
   "execution_count": 4,
   "metadata": {},
   "outputs": [],
   "source": [
    "# the following compute the rank of the matrix and the average of the correlation coefficients in the correlation matrix:\n",
    "# x is expected to have the following shape: [B,C,H,W] if it has 4 dimensions, [B,C] if it has 2 dimensions \n",
    "def rank_and_avg_corr(x):\n",
    "    if len(x.shape)==4:  # conv\n",
    "        # flatten x from [B,C,H,W] to [C,B*H*W]\n",
    "        x_f= x.permute(1,0,2,3).reshape(x.shape[1],-1)\n",
    "    else:\n",
    "        # change from [B,C] to [C,B]\n",
    "        x_f=x.T\n",
    "    # compute corr matrix\n",
    "    corr_matrix = torch.corrcoef(x_f)\n",
    "    # Extract upper triangular part (excluding diagonal)\n",
    "    upper_tri = torch.triu(corr_matrix, diagonal=1)\n",
    "    # Compute average of cross-correlation coefficients\n",
    "    avg_corr = upper_tri.sum() / (upper_tri.numel() - upper_tri.diag().numel())\n",
    "    rank = torch.linalg.matrix_rank(x_f)/x.shape[1]\n",
    "    return rank,avg_corr\n"
   ]
  },
  {
   "cell_type": "markdown",
   "metadata": {},
   "source": [
    "#### 4D tensor"
   ]
  },
  {
   "cell_type": "code",
   "execution_count": 138,
   "metadata": {},
   "outputs": [
    {
     "name": "stdout",
     "output_type": "stream",
     "text": [
      "generating a tensor of shape (100, 3,32,32) with mean tensor([[19., 47., 18.]]) and covariance \n",
      " tensor([[ 8.6111,  4.5469, -0.9660],\n",
      "        [ 4.5469, 11.1936,  7.9774],\n",
      "        [-0.9660,  7.9774,  8.3056]]):\n",
      "actual mean and cov: tensor([18.9974, 47.0011, 18.0025]),\n",
      " tensor([[ 8.6051,  4.5244, -0.9843],\n",
      "        [ 4.5244, 11.1625,  7.9613],\n",
      "        [-0.9843,  7.9613,  8.3015]])\n"
     ]
    }
   ],
   "source": [
    "# Create a batch of 2D images (batch size, channels, height, width)\n",
    "num_features = 3\n",
    "n_samples=100\n",
    "m = torch.randint(10,100,(1,num_features)).float()\n",
    "c = torch.randint(1,10,(1,num_features))\n",
    "# cov = c.T@c + 0.1*torch.eye(num_features)       # ill conditioned \n",
    "cov = generate_well_conditioned_covariance(num_features,10000)  # well conditioned\n",
    "\n",
    "print(f'generating a tensor of shape ({n_samples}, {num_features},32,32) with mean {m} and covariance \\n {cov}:')\n",
    "x = torch.randn(n_samples, num_features, 32, 32).permute(1,0,2,3).reshape(num_features,-1).T\n",
    "L = torch.linalg.cholesky(cov.float())\n",
    "xc= x@L.T + m\n",
    "# print(f'actual mean and cov: {xc.mean(0)},\\n {torch.cov(xc.T,correction=0)}')\n",
    "print(f'actual mean and cov: {xc.mean(0)},\\n {torch.cov(xc.T)}')\n",
    "x_c = xc.permute(1,0).reshape(num_features,n_samples,32,32).permute(1,0,2,3)\n",
    "# flatten x_c to [num_featurs,num_samples]:\n",
    "x_c_f= x_c.permute(1,0,2,3).reshape(x_c.shape[1],-1)\n",
    "\n"
   ]
  },
  {
   "cell_type": "code",
   "execution_count": 139,
   "metadata": {},
   "outputs": [
    {
     "name": "stdout",
     "output_type": "stream",
     "text": [
      "tensor([[ 8.6051,  4.5244, -0.9843],\n",
      "        [ 4.5244, 11.1625,  7.9613],\n",
      "        [-0.9843,  7.9613,  8.3015]])\n",
      "condition number: 9925.451171875\n",
      "\n",
      " \n",
      " correlation matrix and average cross correlation:\n"
     ]
    },
    {
     "data": {
      "text/plain": [
       "(tensor([[ 1.0000,  0.4616, -0.1165],\n",
       "         [ 0.4616,  1.0000,  0.8270],\n",
       "         [-0.1165,  0.8270,  1.0000]]),\n",
       " tensor(0.1954))"
      ]
     },
     "execution_count": 139,
     "metadata": {},
     "output_type": "execute_result"
    }
   ],
   "source": [
    "# compute the cov from x_c:\n",
    "x_c_cov = x_c_f.cov()\n",
    "print(x_c_cov)\n",
    "print(f\"condition number: {torch.linalg.cond(x_c_cov)}\")\n",
    "print(\"\\n \\n correlation matrix and average cross correlation:\") \n",
    "cov_to_corr(x_c_cov)"
   ]
  },
  {
   "cell_type": "code",
   "execution_count": 140,
   "metadata": {},
   "outputs": [
    {
     "name": "stdout",
     "output_type": "stream",
     "text": [
      "tensor([[ 1.0000,  0.4616, -0.1165],\n",
      "        [ 0.4616,  1.0000,  0.8270],\n",
      "        [-0.1165,  0.8270,  1.0000]])\n"
     ]
    },
    {
     "data": {
      "text/plain": [
       "tensor([[ 1.0000,  0.4616, -0.1165],\n",
       "        [ 0.4616,  1.0000,  0.8270],\n",
       "        [-0.1165,  0.8270,  1.0000]])"
      ]
     },
     "execution_count": 140,
     "metadata": {},
     "output_type": "execute_result"
    }
   ],
   "source": [
    "# compute the correlation coefficient matrix\n",
    "print(torch.corrcoef(x_c_f))\n",
    "# test the conversion function: should be the same output\n",
    "cov_to_corr(x_c_cov)[0]"
   ]
  },
  {
   "cell_type": "code",
   "execution_count": 14,
   "metadata": {},
   "outputs": [
    {
     "name": "stdout",
     "output_type": "stream",
     "text": [
      "torch.Size([102400, 3])\n",
      "torch.Size([100, 3, 32, 32])\n",
      "torch.Size([3, 102400])\n"
     ]
    }
   ],
   "source": [
    "print(xc.shape)\n",
    "print(x_c.shape)\n",
    "print(x_c_f.shape)"
   ]
  },
  {
   "cell_type": "markdown",
   "metadata": {},
   "source": [
    "##### Validating Batch Whitening layer"
   ]
  },
  {
   "cell_type": "code",
   "execution_count": 30,
   "metadata": {},
   "outputs": [
    {
     "name": "stdout",
     "output_type": "stream",
     "text": [
      "tensor([[ 1.0000e+00,  3.2923e-05, -1.8035e-06],\n",
      "        [ 3.2923e-05,  9.9937e-01,  3.9545e-05],\n",
      "        [-1.8035e-06,  3.9545e-05,  1.0000e+00]], grad_fn=<SqueezeBackward0>)\n",
      "Functional validation passed!\n"
     ]
    },
    {
     "data": {
      "text/plain": [
       "(tensor([[ 1.0000e+00,  3.2933e-05, -1.8035e-06],\n",
       "         [ 3.2933e-05,  1.0000e+00,  3.9557e-05],\n",
       "         [-1.8035e-06,  3.9557e-05,  1.0000e+00]], grad_fn=<DivBackward0>),\n",
       " tensor(1.1781e-05, grad_fn=<DivBackward0>))"
      ]
     },
     "execution_count": 30,
     "metadata": {},
     "output_type": "execute_result"
    }
   ],
   "source": [
    "# Our custom batch normalization layer\n",
    "bw_layer = BatchWhitening(num_features,momentum=1)\n",
    "\n",
    "# Forward pass\n",
    "x_w = bw_layer(x_c)   # expecting x_c.shape=[N,C,H,W] \n",
    "\n",
    "x_w_cov = x_w.permute(1,0,2,3).reshape(x.shape[1],-1).cov()\n",
    "print(x_w_cov)\n",
    "# Check if the outputs are indeed orthonormal\n",
    "assert torch.allclose(x_w_cov, torch.eye(num_features), atol=1e-2), \"The outputs are not close enough!\"\n",
    "\n",
    "print(\"Functional validation passed!\")\n",
    "cov_to_corr(x_w_cov)"
   ]
  },
  {
   "cell_type": "code",
   "execution_count": 28,
   "metadata": {},
   "outputs": [
    {
     "name": "stdout",
     "output_type": "stream",
     "text": [
      "(tensor([[ 1.0000e+00,  3.2933e-05, -1.8035e-06],\n",
      "        [ 3.2933e-05,  1.0000e+00,  3.9557e-05],\n",
      "        [-1.8035e-06,  3.9557e-05,  1.0000e+00]], grad_fn=<DivBackward0>), tensor(1.1781e-05, grad_fn=<DivBackward0>))\n",
      "tensor([[ 1.0000e+00,  3.2934e-05, -1.8035e-06],\n",
      "        [ 3.2934e-05,  1.0000e+00,  3.9557e-05],\n",
      "        [-1.8035e-06,  3.9557e-05,  1.0000e+00]], grad_fn=<ClampBackward1>)\n"
     ]
    }
   ],
   "source": [
    "# since the layer also normalized the input, the correlation coefficient matrix should be nearly the same (up to approx errors) as the covariance matrix. lets check it:\n",
    "print(cov_to_corr(x_w_cov))\n",
    "# alternatice way to compute: - should produce the same output\n",
    "print(torch.corrcoef(x_w.permute(1,0,2,3).reshape(x.shape[1],-1)))"
   ]
  },
  {
   "cell_type": "code",
   "execution_count": 29,
   "metadata": {},
   "outputs": [
    {
     "name": "stdout",
     "output_type": "stream",
     "text": [
      "tensor([[ 3.3637,  4.0622,  1.1951],\n",
      "        [ 4.0622,  4.9443,  1.4957],\n",
      "        [ 1.1951,  1.4957, 15.0755]], grad_fn=<SqueezeBackward0>)\n"
     ]
    },
    {
     "data": {
      "text/plain": [
       "(tensor([[1.0000, 0.9961, 0.1678],\n",
       "         [0.9961, 1.0000, 0.1732],\n",
       "         [0.1678, 0.1732, 1.0000]], grad_fn=<DivBackward0>),\n",
       " tensor(0.2229, grad_fn=<DivBackward0>))"
      ]
     },
     "execution_count": 29,
     "metadata": {},
     "output_type": "execute_result"
    }
   ],
   "source": [
    "x_c_cov = x_c.permute(1,0,2,3).reshape(x.shape[1],-1).cov()\n",
    "# we can also compute x_c_cov as follows\n",
    "# torch.cov(x_c.permute(1,0,2,3).reshape(x.shape[1],-1))\n",
    "print(x_c_cov)\n",
    "cov_to_corr(x_c_cov)"
   ]
  },
  {
   "cell_type": "code",
   "execution_count": null,
   "metadata": {},
   "outputs": [],
   "source": [
    "# compute the rank\n",
    "torch.linalg.matrix_rank(x_c.permute(1,0,2,3).reshape(x.shape[1],-1))/x_c.shape[1]"
   ]
  },
  {
   "cell_type": "markdown",
   "metadata": {},
   "source": [
    "##### Validating iter norm "
   ]
  },
  {
   "cell_type": "code",
   "execution_count": 141,
   "metadata": {},
   "outputs": [
    {
     "name": "stdout",
     "output_type": "stream",
     "text": [
      "IterNorm(3, num_channels=3, T=11, eps=1e-05, dim=4, momentum=1, affine=False)\n",
      "torch.Size([100, 3, 32, 32])\n"
     ]
    },
    {
     "data": {
      "text/plain": [
       "(tensor([[ 1.0000, -0.0227, -0.9968],\n",
       "         [-0.0227,  1.0000,  0.0201],\n",
       "         [-0.9968,  0.0201,  1.0000]], grad_fn=<DivBackward0>),\n",
       " tensor(-0.1666, grad_fn=<DivBackward0>))"
      ]
     },
     "execution_count": 141,
     "metadata": {},
     "output_type": "execute_result"
    }
   ],
   "source": [
    "# TODO: understand how the algo works so that it whiten the matrix\n",
    "ItN = IterNorm(3, num_groups=1, T=11, momentum=1, affine=False)\n",
    "print(ItN)\n",
    "ItN.train()\n",
    "x_c.requires_grad_()\n",
    "x_w = ItN(x_c)\n",
    "print(x_w.shape)\n",
    "x_w_cov = x_w.permute(1,0,2,3).reshape(x_w.shape[1],-1).cov()\n",
    "cov_to_corr(x_w_cov)\n",
    "# print(x_w_cov)\n"
   ]
  },
  {
   "cell_type": "markdown",
   "metadata": {},
   "source": [
    "#### 2D tensor"
   ]
  },
  {
   "cell_type": "code",
   "execution_count": 53,
   "metadata": {},
   "outputs": [
    {
     "name": "stdout",
     "output_type": "stream",
     "text": [
      "generating a tensor of shape (B, 4) with mean tensor([[44., 16., 80., 31.]]) and covariance \n",
      " tensor([[ 8.7027,  1.4486,  4.8319,  2.8655],\n",
      "        [ 1.4486, 22.2658,  9.1006,  0.7148],\n",
      "        [ 4.8319,  9.1006,  6.3153,  0.2747],\n",
      "        [ 2.8655,  0.7148,  0.2747, 17.6371]]):\n",
      "tensor xc.shape=torch.Size([1000, 4])\n",
      "actual mean and cov: tensor([43.9412, 16.1113, 79.9863, 31.0422]),\n",
      " tensor([[ 8.1434,  1.3770,  4.4945,  2.1811],\n",
      "        [ 1.3770, 23.0514,  9.5046, -0.1960],\n",
      "        [ 4.4945,  9.5046,  6.3290, -0.4049],\n",
      "        [ 2.1811, -0.1960, -0.4049, 16.2121]])\n"
     ]
    }
   ],
   "source": [
    "# Create a batch of vectors (B, num_features)\n",
    "num_features = 4\n",
    "# num_features = 64\n",
    "m = torch.randint(10,100,(1,num_features)).float()\n",
    "c = torch.randint(1,10,(1,num_features))\n",
    "# cov = c.T@c + 0.1*torch.eye(num_features)\n",
    "cov = generate_well_conditioned_covariance(4,100)\n",
    "\n",
    "\n",
    "print(f'generating a tensor of shape (B, {num_features}) with mean {m} and covariance \\n {cov}:')\n",
    "x = torch.randn(1000, num_features)\n",
    "# x = torch.randn(128, num_features)\n",
    "L = torch.linalg.cholesky(cov.float())\n",
    "xc= x@L.T + m \n",
    "print(f'tensor xc.shape={xc.shape}')\n",
    "print(f'actual mean and cov: {xc.mean(0)},\\n {torch.cov(xc.T)}')\n",
    "\n",
    "# print(f'rank and average correlation of x: {rank_and_avg_corr(x)}')\n",
    "# print(f'rank and average correlation of xc: {rank_and_avg_corr(xc)}')\n"
   ]
  },
  {
   "cell_type": "code",
   "execution_count": 54,
   "metadata": {},
   "outputs": [
    {
     "name": "stdout",
     "output_type": "stream",
     "text": [
      "condition number: 106.389892578125\n",
      "\n",
      " \n",
      " correlation matrix and average cross correlation:\n"
     ]
    },
    {
     "data": {
      "text/plain": [
       "(tensor([[ 1.0000,  0.1005,  0.6261,  0.1898],\n",
       "         [ 0.1005,  1.0000,  0.7869, -0.0101],\n",
       "         [ 0.6261,  0.7869,  1.0000, -0.0400],\n",
       "         [ 0.1898, -0.0101, -0.0400,  1.0000]]),\n",
       " tensor(0.1378))"
      ]
     },
     "execution_count": 54,
     "metadata": {},
     "output_type": "execute_result"
    }
   ],
   "source": [
    "x_c_cov=torch.cov(xc.T)\n",
    "print(f\"condition number: {torch.linalg.cond(x_c_cov)}\")\n",
    "print(\"\\n \\n correlation matrix and average cross correlation:\") \n",
    "cov_to_corr(x_c_cov)"
   ]
  },
  {
   "cell_type": "code",
   "execution_count": null,
   "metadata": {},
   "outputs": [],
   "source": [
    "print(f'eigen values of x.cov: {torch.linalg.eig(torch.cov(x.T))[0]}')\n",
    "print(f'eigen values of xc.cov: {torch.linalg.eig(torch.cov(xc.T))[0]}')\n"
   ]
  },
  {
   "cell_type": "code",
   "execution_count": 72,
   "metadata": {},
   "outputs": [
    {
     "data": {
      "text/plain": [
       "array([[ 1.        ,  0.10050666,  0.6260576 ,  0.18982305],\n",
       "       [ 0.10050666,  1.        ,  0.78689915, -0.01013907],\n",
       "       [ 0.6260577 ,  0.7868992 ,  1.        , -0.03996942],\n",
       "       [ 0.18982306, -0.01013907, -0.03996942,  1.        ]],\n",
       "      dtype=float32)"
      ]
     },
     "execution_count": 72,
     "metadata": {},
     "output_type": "execute_result"
    }
   ],
   "source": [
    "C=torch.corrcoef(xc.T).detach().numpy()"
   ]
  },
  {
   "cell_type": "markdown",
   "metadata": {},
   "source": [
    "##### Batch whitening (Cholesky)"
   ]
  },
  {
   "cell_type": "code",
   "execution_count": 36,
   "metadata": {},
   "outputs": [
    {
     "name": "stdout",
     "output_type": "stream",
     "text": [
      "cov matrix of xc.T\n",
      "tensor([[19.5924,  2.7735,  5.2357, -0.5478],\n",
      "        [ 2.7735, 20.4336,  3.9708,  6.3781],\n",
      "        [ 5.2357,  3.9708, 11.4728,  6.4239],\n",
      "        [-0.5478,  6.3781,  6.4239, 10.1352]])\n",
      "cov matrix of x_w.T\n",
      "tensor([[ 1.0010e+00,  5.7994e-08,  4.1194e-08, -6.6347e-08],\n",
      "        [ 5.7994e-08,  1.0010e+00,  1.4367e-07,  3.1407e-07],\n",
      "        [ 4.1194e-08,  1.4367e-07,  1.0010e+00,  9.2122e-07],\n",
      "        [-6.6347e-08,  3.1407e-07,  9.2122e-07,  1.0010e+00]])\n",
      "Functional validation passed!\n"
     ]
    }
   ],
   "source": [
    "# Our custom batch normalization layer\n",
    "bw_layer = BatchWhitening(num_features,momentum=1)\n",
    "\n",
    "print('cov matrix of xc.T')\n",
    "print(torch.cov(xc.T))\n",
    "\n",
    "# Forward pass - expecting xc.shape=[N,D]\n",
    "x_w = bw_layer(xc)\n",
    "\n",
    "print('cov matrix of x_w.T')\n",
    "print(torch.cov(x_w.T))\n",
    "\n",
    "# Check if the outputs are indeed orthonormal\n",
    "assert torch.allclose(x_w.T.cov(), torch.eye(num_features), atol=1e-2), \"The outputs are not close enough!\"\n",
    "\n",
    "print(\"Functional validation passed!\")"
   ]
  },
  {
   "cell_type": "code",
   "execution_count": 37,
   "metadata": {},
   "outputs": [
    {
     "data": {
      "text/plain": [
       "(tensor([[ 1.0000e+00,  5.7936e-08,  4.1152e-08, -6.6280e-08],\n",
       "         [ 5.7936e-08,  1.0000e+00,  1.4353e-07,  3.1376e-07],\n",
       "         [ 4.1152e-08,  1.4353e-07,  1.0000e+00,  9.2030e-07],\n",
       "         [-6.6280e-08,  3.1376e-07,  9.2030e-07,  1.0000e+00]]),\n",
       " tensor(1.1753e-07))"
      ]
     },
     "execution_count": 37,
     "metadata": {},
     "output_type": "execute_result"
    }
   ],
   "source": [
    "# print the correlation matrix of the whitened signal and the average cross correlation\n",
    "cov_to_corr(x_w.T.cov())"
   ]
  },
  {
   "cell_type": "code",
   "execution_count": 38,
   "metadata": {},
   "outputs": [
    {
     "data": {
      "text/plain": [
       "tensor([[ 1.0000e+00,  5.7936e-08,  4.1152e-08, -6.6280e-08],\n",
       "        [ 5.7936e-08,  1.0000e+00,  1.4353e-07,  3.1376e-07],\n",
       "        [ 4.1152e-08,  1.4353e-07,  1.0000e+00,  9.2030e-07],\n",
       "        [-6.6280e-08,  3.1376e-07,  9.2030e-07,  1.0000e+00]])"
      ]
     },
     "execution_count": 38,
     "metadata": {},
     "output_type": "execute_result"
    }
   ],
   "source": [
    "# should be the same correlation matrix as previous cell\n",
    "torch.corrcoef(x_w.T)\n"
   ]
  },
  {
   "cell_type": "markdown",
   "metadata": {},
   "source": [
    "##### Iternorm"
   ]
  },
  {
   "cell_type": "markdown",
   "metadata": {},
   "source": [
    "using the same signal as above"
   ]
  },
  {
   "cell_type": "code",
   "execution_count": null,
   "metadata": {},
   "outputs": [],
   "source": [
    "# using the same signal \n",
    "print(f' xc.shape={xc.shape}')"
   ]
  },
  {
   "cell_type": "code",
   "execution_count": 81,
   "metadata": {},
   "outputs": [
    {
     "name": "stdout",
     "output_type": "stream",
     "text": [
      "IterNorm(4, num_channels=4, T=10, eps=1e-05, dim=4, momentum=1, affine=False)\n",
      "y_cov:\n",
      "tensor([[ 4180.2402,  3087.0859, -7855.9429,  -733.3395],\n",
      "        [ 3087.0859,  2280.7432, -5803.5220,  -541.7139],\n",
      "        [-7855.9429, -5803.5220, 14767.7178,  1378.4817],\n",
      "        [ -733.3395,  -541.7139,  1378.4817,   129.6800]],\n",
      "       grad_fn=<DivBackward0>)\n"
     ]
    },
    {
     "data": {
      "text/plain": [
       "(tensor([[ 1.0000,  0.9998, -0.9999, -0.9960],\n",
       "         [ 0.9998,  1.0000, -1.0000, -0.9961],\n",
       "         [-0.9999, -1.0000,  1.0000,  0.9961],\n",
       "         [-0.9960, -0.9961,  0.9961,  1.0000]], grad_fn=<DivBackward0>),\n",
       " tensor(-0.1663, grad_fn=<DivBackward0>))"
      ]
     },
     "execution_count": 81,
     "metadata": {},
     "output_type": "execute_result"
    }
   ],
   "source": [
    "ItN = IterNorm(num_features, num_groups=1, T=10,  momentum=1, affine=False)\n",
    "print(ItN)\n",
    "ItN.train()\n",
    "xc.requires_grad_()\n",
    "y = ItN(xc)  # y.shape=xc.shape=[N,D]\n",
    "# the following is an alternative computation of y's cov matrix (implements what cov is doing behind the scene with correction=0)\n",
    "z = y.transpose(0, 1).contiguous().view(x.size(1), -1) # z.shape=[D,N]\n",
    "y_cov = z.matmul(z.t()) / z.size(1)\n",
    "print(\"y_cov:\")\n",
    "print(y_cov)  # the outcome is the cov matrix at shape [D,D]\n",
    "\n",
    "cov_to_corr(y_cov)"
   ]
  },
  {
   "cell_type": "code",
   "execution_count": 56,
   "metadata": {},
   "outputs": [
    {
     "name": "stdout",
     "output_type": "stream",
     "text": [
      "torch.Size([1000, 4])\n",
      "tensor([[ 4180.2388,  3087.0857, -7855.9424,  -733.3392],\n",
      "        [ 3087.0857,  2280.7434, -5803.5215,  -541.7140],\n",
      "        [-7855.9424, -5803.5215, 14767.7139,  1378.4822],\n",
      "        [ -733.3392,  -541.7140,  1378.4822,   129.6800]],\n",
      "       grad_fn=<SqueezeBackward0>)\n"
     ]
    },
    {
     "data": {
      "text/plain": [
       "(tensor([[ 1.0000,  0.9998, -0.9999, -0.9960],\n",
       "         [ 0.9998,  1.0000, -1.0000, -0.9961],\n",
       "         [-0.9999, -1.0000,  1.0000,  0.9961],\n",
       "         [-0.9960, -0.9961,  0.9961,  1.0000]], grad_fn=<DivBackward0>),\n",
       " tensor(-0.1663, grad_fn=<DivBackward0>))"
      ]
     },
     "execution_count": 56,
     "metadata": {},
     "output_type": "execute_result"
    }
   ],
   "source": [
    "# alternative computation \n",
    "x_w = ItN(xc)\n",
    "print(x_w.shape)\n",
    "x_w_cov = x_w.T.cov(correction=0)\n",
    "print(x_w_cov)\n",
    "\n",
    "# torch.corrcoef(x_w.T)\n",
    "cov_to_corr(x_w_cov)"
   ]
  },
  {
   "cell_type": "code",
   "execution_count": 95,
   "metadata": {},
   "outputs": [
    {
     "data": {
      "text/plain": [
       "tensor([[ 8.1434,  1.3770,  4.4945,  2.1811],\n",
       "        [ 1.3770, 23.0514,  9.5046, -0.1960],\n",
       "        [ 4.4945,  9.5046,  6.3290, -0.4049],\n",
       "        [ 2.1811, -0.1960, -0.4049, 16.2121]], grad_fn=<SqueezeBackward0>)"
      ]
     },
     "execution_count": 95,
     "metadata": {},
     "output_type": "execute_result"
    }
   ],
   "source": [
    "xc.T.cov()"
   ]
  },
  {
   "cell_type": "code",
   "execution_count": 117,
   "metadata": {},
   "outputs": [
    {
     "data": {
      "text/plain": [
       "tensor([[ 1.0000,  0.1005,  0.6261,  0.1898],\n",
       "        [ 0.1005,  1.0000,  0.7869, -0.0101],\n",
       "        [ 0.6261,  0.7869,  1.0000, -0.0400],\n",
       "        [ 0.1898, -0.0101, -0.0400,  1.0000]], grad_fn=<DivBackward0>)"
      ]
     },
     "execution_count": 117,
     "metadata": {},
     "output_type": "execute_result"
    }
   ],
   "source": [
    "xc_corr=cov_to_corr(xc.T.cov())[0]\n",
    "xc_corr"
   ]
  },
  {
   "cell_type": "code",
   "execution_count": 118,
   "metadata": {},
   "outputs": [
    {
     "data": {
      "text/plain": [
       "tensor([[ 8.1434,  1.3770,  4.4945,  2.1811],\n",
       "        [ 1.3770, 23.0514,  9.5046, -0.1960],\n",
       "        [ 4.4945,  9.5046,  6.3290, -0.4049],\n",
       "        [ 2.1811, -0.1960, -0.4049, 16.2121]], grad_fn=<MmBackward0>)"
      ]
     },
     "execution_count": 118,
     "metadata": {},
     "output_type": "execute_result"
    }
   ],
   "source": [
    "c2c=corr_to_cov(xc_corr,xc.std(axis=0))\n",
    "c2c"
   ]
  },
  {
   "cell_type": "code",
   "execution_count": 87,
   "metadata": {},
   "outputs": [
    {
     "data": {
      "text/plain": [
       "tensor([2.8537, 4.8012, 2.5157, 4.0264], grad_fn=<StdBackward0>)"
      ]
     },
     "execution_count": 87,
     "metadata": {},
     "output_type": "execute_result"
    }
   ],
   "source": [
    "# torch.std(xc,dim=0)\n",
    "xc.std(axis=0)"
   ]
  },
  {
   "cell_type": "markdown",
   "metadata": {},
   "source": [
    "### Debug"
   ]
  },
  {
   "cell_type": "code",
   "execution_count": 19,
   "metadata": {},
   "outputs": [],
   "source": [
    "M = torch.randn(10, 3, 5)\n",
    "A = torch.zeros_like(M)\n",
    "batch1 = torch.randn(10, 3, 4)\n",
    "batch2 = torch.randn(10, 4, 5)\n",
    "B=torch.baddbmm(M, batch1, batch2,out=A)"
   ]
  },
  {
   "cell_type": "code",
   "execution_count": 77,
   "metadata": {},
   "outputs": [],
   "source": [
    "def get_a(c):\n",
    "    a=0.9+0.1*torch.exp(-(c/0.9)**10)\n",
    "    torch.diagonal(a).fill_(1.0)\n",
    "    return a\n"
   ]
  },
  {
   "cell_type": "code",
   "execution_count": 127,
   "metadata": {},
   "outputs": [
    {
     "name": "stdout",
     "output_type": "stream",
     "text": [
      "tensor([[1.0000, 0.9795, 0.3806],\n",
      "        [0.9795, 1.0000, 0.2026],\n",
      "        [0.3806, 0.2026, 1.0000]])\n"
     ]
    }
   ],
   "source": [
    "# C=torch.corrcoef(xc.T).detach().numpy()\n",
    "C=torch.corrcoef(xc.T)\n",
    "print(C)"
   ]
  },
  {
   "cell_type": "code",
   "execution_count": 129,
   "metadata": {},
   "outputs": [
    {
     "data": {
      "text/plain": [
       "tensor([[1.0000, 0.8911, 0.3805],\n",
       "        [0.8911, 1.0000, 0.2026],\n",
       "        [0.3805, 0.2026, 1.0000]])"
      ]
     },
     "execution_count": 129,
     "metadata": {},
     "output_type": "execute_result"
    }
   ],
   "source": [
    "C*get_a(C)"
   ]
  },
  {
   "cell_type": "code",
   "execution_count": 79,
   "metadata": {},
   "outputs": [
    {
     "data": {
      "text/plain": [
       "array([[ 1.        ,  0.10050666,  0.6244186 ,  0.18982303],\n",
       "       [ 0.10050666,  1.        ,  0.768818  , -0.01013907],\n",
       "       [ 0.6244187 ,  0.768818  ,  1.        , -0.03996942],\n",
       "       [ 0.18982305, -0.01013907, -0.03996942,  1.        ]],\n",
       "      dtype=float32)"
      ]
     },
     "execution_count": 79,
     "metadata": {},
     "output_type": "execute_result"
    }
   ],
   "source": [
    "C*get_a(C)"
   ]
  }
 ],
 "metadata": {
  "kernelspec": {
   "display_name": "Python 3",
   "language": "python",
   "name": "python3"
  },
  "language_info": {
   "codemirror_mode": {
    "name": "ipython",
    "version": 3
   },
   "file_extension": ".py",
   "mimetype": "text/x-python",
   "name": "python",
   "nbconvert_exporter": "python",
   "pygments_lexer": "ipython3",
   "version": "3.10.12"
  }
 },
 "nbformat": 4,
 "nbformat_minor": 2
}
